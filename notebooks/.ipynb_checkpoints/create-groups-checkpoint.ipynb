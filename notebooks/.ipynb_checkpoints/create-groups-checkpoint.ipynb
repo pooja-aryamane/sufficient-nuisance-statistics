{
 "cells": [
  {
   "cell_type": "code",
   "execution_count": 1,
   "metadata": {},
   "outputs": [],
   "source": [
    "import pandas as pd\n",
    "import numpy as np\n",
    "import random \n",
    "import torch \n",
    "import os \n",
    "from PIL import Image\n",
    "from torch.utils.data import Dataset\n",
    "from torch.utils.data import DataLoader\n",
    "import torchvision.transforms as transforms\n",
    "from torchvision import models\n",
    "from torch import nn\n",
    "from scipy import stats\n",
    "import matplotlib.pyplot as plt\n",
    "from matplotlib import image\n",
    "import shutil\n",
    "from sklearn.mixture import GaussianMixture\n",
    "from sklearn.tree import DecisionTreeClassifier\n",
    "from sklearn.metrics import confusion_matrix, balanced_accuracy_score"
   ]
  },
  {
   "cell_type": "code",
   "execution_count": 2,
   "metadata": {},
   "outputs": [],
   "source": [
    "groups_mapping={0:'chexpert_1', 1:'chexpert_0', 2:'mimic_0', 3:'mimic_1'}"
   ]
  },
  {
   "cell_type": "markdown",
   "metadata": {},
   "source": [
    "### TRUE GROUP BALANCED DATA:"
   ]
  },
  {
   "cell_type": "code",
   "execution_count": 3,
   "metadata": {},
   "outputs": [],
   "source": [
    "chex = pd.read_csv('resized_data/chexpert/full_data_chexpert_full.csv').iloc[:,1:]\n",
    "mimic = pd.read_csv('resized_data/mimic/full_data_mimic_full.csv').iloc[:,1:]\n",
    "df=pd.concat([chex,mimic])"
   ]
  },
  {
   "cell_type": "code",
   "execution_count": 6,
   "metadata": {},
   "outputs": [
    {
     "data": {
      "text/plain": [
       "array(['/scratch/paa9751/mlhc-project/resized_data/chexpert/imgs/CheXpert-v1.0trainpatient17799study2view2_lateral.npy',\n",
       "       '/scratch/paa9751/mlhc-project/resized_data/chexpert/imgs/CheXpert-v1.0trainpatient34816study6view1_frontal.npy',\n",
       "       '/scratch/paa9751/mlhc-project/resized_data/chexpert/imgs/CheXpert-v1.0trainpatient34722study10view1_frontal.npy',\n",
       "       ...,\n",
       "       '/scratch/paa9751/mlhc-project/resized_data/mimic/imgs/mimic-cxr-jpg-2.0.0.physionet.orgfilesp14p14607991s57935244d4de5d85-581e7f06-c1b0430f-62c5a6e2-8e820ff5.npy',\n",
       "       '/scratch/paa9751/mlhc-project/resized_data/mimic/imgs/mimic-cxr-jpg-2.0.0.physionet.orgfilesp15p15296176s55638048ee9c46f7-07144e81-5750e091-9b4a0035-cab21b92.npy',\n",
       "       '/scratch/paa9751/mlhc-project/resized_data/mimic/imgs/mimic-cxr-jpg-2.0.0.physionet.orgfilesp11p11089893s57650194f3dc58c7-b50e0ab5-a7afd93f-5d0bb2fb-b87c0889.npy'],\n",
       "      dtype=object)"
      ]
     },
     "execution_count": 6,
     "metadata": {},
     "output_type": "execute_result"
    }
   ],
   "source": [
    "df.new_path.unique()"
   ]
  },
  {
   "cell_type": "code",
   "execution_count": 44,
   "metadata": {},
   "outputs": [
    {
     "data": {
      "text/plain": [
       "true_group_idx\n",
       "0    6300\n",
       "2    6300\n",
       "1     700\n",
       "3     700\n",
       "Name: count, dtype: int64"
      ]
     },
     "execution_count": 44,
     "metadata": {},
     "output_type": "execute_result"
    }
   ],
   "source": [
    "df[df.split=='train'].true_group_idx.value_counts()"
   ]
  },
  {
   "cell_type": "code",
   "execution_count": 45,
   "metadata": {},
   "outputs": [
    {
     "data": {
      "text/plain": [
       "true_group_idx\n",
       "0    1350\n",
       "2    1350\n",
       "1     150\n",
       "3     150\n",
       "Name: count, dtype: int64"
      ]
     },
     "execution_count": 45,
     "metadata": {},
     "output_type": "execute_result"
    }
   ],
   "source": [
    "df[df.split=='val'].true_group_idx.value_counts()"
   ]
  },
  {
   "cell_type": "code",
   "execution_count": 46,
   "metadata": {},
   "outputs": [],
   "source": [
    "def subsample_train(data):\n",
    "    return data.sample(700)\n",
    "def subsample_val(data):\n",
    "    return data.sample(150)\n",
    "undersampled_train=df[df.split=='train'].groupby('true_group_idx').apply(subsample_train)\n",
    "undersampled_val=df[df.split=='val'].groupby('true_group_idx').apply(subsample_val)\n",
    "undersampled_groupstrue=pd.concat([undersampled_train,undersampled_val,df[df.split=='test']])"
   ]
  },
  {
   "cell_type": "code",
   "execution_count": 47,
   "metadata": {},
   "outputs": [
    {
     "data": {
      "text/plain": [
       "(2800, 32)"
      ]
     },
     "execution_count": 47,
     "metadata": {},
     "output_type": "execute_result"
    }
   ],
   "source": [
    "undersampled_groupstrue[undersampled_groupstrue.split=='train'].shape"
   ]
  },
  {
   "cell_type": "code",
   "execution_count": 41,
   "metadata": {},
   "outputs": [],
   "source": [
    "undersampled_groupstrue[undersampled_groupstrue.dataset_idx==1].to_csv('resized_data/chexpert/full_data_chexpert_true_group_balanced.csv')\n",
    "undersampled_groupstrue[undersampled_groupstrue.dataset_idx==0].to_csv('resized_data/mimic/full_data_mimic_true_group_balanced.csv')"
   ]
  },
  {
   "cell_type": "markdown",
   "metadata": {},
   "source": [
    "### CREATE SNS AND Y-SNS GROUPS"
   ]
  },
  {
   "cell_type": "markdown",
   "metadata": {},
   "source": [
    "Run re-weighting NURD on our dataset. \n",
    "weight = 1/p(y|z) \n",
    "run weighted ERM where weight is attached to loss \n",
    "\n",
    "- only train the last layer? "
   ]
  },
  {
   "cell_type": "code",
   "execution_count": 7,
   "metadata": {},
   "outputs": [
    {
     "name": "stdout",
     "output_type": "stream",
     "text": [
      "2\n",
      "[1 0]\n",
      "sns 2 groups classification = \n",
      "0.4949517652767075\n",
      "4\n",
      "[2 3 0 1]\n",
      "sns 4 groups classification = \n",
      "0.48494001999960995\n",
      "8\n",
      "[5 7 0 6 4 3 2 1]\n",
      "sns 8 groups classification = \n",
      "0.4778360090229562\n",
      "16\n",
      "[11 14  0 15 13  9  8 12  1  6 10  5  7  3  4  2]\n",
      "sns 16 groups classification = \n",
      "0.47842061990729634\n",
      "32\n",
      "[23 29  0 22 30 31 27 26 28 18 17 25 24  3 16 13 21 11 20  1  2 15  6 14\n",
      "  8 19 10  5  7  9  4 12]\n",
      "sns 32 groups classification = \n",
      "0.4902672237350779\n"
     ]
    },
    {
     "name": "stderr",
     "output_type": "stream",
     "text": [
      "/ext3/miniconda3/lib/python3.11/site-packages/sklearn/metrics/_classification.py:2399: UserWarning: y_pred contains classes not in y_true\n",
      "  warnings.warn(\"y_pred contains classes not in y_true\")\n"
     ]
    }
   ],
   "source": [
    "middle_range=[0.25,0.75]\n",
    "chex = pd.read_csv('resized_data/chexpert/full_data_chexpert_full.csv').iloc[:,1:]\n",
    "mimic = pd.read_csv('resized_data/mimic/full_data_mimic_full.csv').iloc[:,1:]\n",
    "df=pd.concat([chex,mimic])\n",
    "df=df[(df.observed_prob<=middle_range[0])|(df.observed_prob>=middle_range[1])]\n",
    "for n in [2,4,8,16,32]:\n",
    "    n_groups = n\n",
    "    group_label = 'new_sns_'+str(n)\n",
    "    \n",
    "    #cuts=list(np.linspace(0,1,num=n+1))\n",
    "\n",
    "    cuts = list(np.linspace(0,middle_range[0],num=(n//2)+1)) + list(np.linspace(middle_range[1],1,num=(n//2)+1))\n",
    "    \n",
    "    df[f'{str(n)}_prob_range']=pd.cut(df.observed_prob,cuts)\n",
    "    df[group_label]=pd.cut(df.observed_prob,cuts,labels=False)\n",
    "\n",
    "    unique_values = sorted(df[group_label].unique())\n",
    "    complete_range = list(range(unique_values[0], unique_values[-1] + 1))\n",
    "    missing_values = set(complete_range) - set(unique_values)\n",
    "    mapping = {}\n",
    "    shift = 0\n",
    "    for value in complete_range:\n",
    "        if value in unique_values:\n",
    "            mapping[value] = value - shift\n",
    "        else:\n",
    "            shift += 1\n",
    "    df[group_label] = df[group_label].map(mapping)\n",
    "    print(n)\n",
    "    print(df[group_label].unique())\n",
    "    \n",
    "    x_group = df[group_label].values.reshape(-1,1)\n",
    "    y_group = df['true_group_idx'].values\n",
    "    \n",
    "    clf = DecisionTreeClassifier(random_state=0, max_depth=5, class_weight='balanced')\n",
    "    clf = clf.fit(x_group, y_group)\n",
    "    print(f'sns {n} groups classification = ')\n",
    "    print(balanced_accuracy_score(clf.predict(x_group), y_group))\n",
    "    \n",
    "df['new_sns_y_2']=df.new_sns_2.astype(str) + df.Cardiomegaly.astype(int).astype(str)\n",
    "df['new_sns_y_2']=pd.factorize(df.new_sns_y_2)[0]\n",
    "\n",
    "# df['new_sns_y_3']=df.new_sns_3.astype(str) + df.Cardiomegaly.astype(int).astype(str)\n",
    "# df['new_sns_y_3']=pd.factorize(df.new_sns_y_3)[0]\n",
    "\n",
    "df['new_sns_y_4']=df.new_sns_4.astype(str) + df.Cardiomegaly.astype(int).astype(str)\n",
    "df['new_sns_y_4']=pd.factorize(df.new_sns_y_4)[0]\n",
    "\n",
    "# df['new_sns_y_6']=df.new_sns_group_6.astype(str) + df.Cardiomegaly.astype(int).astype(str)\n",
    "# df['new_sns_y_6']=pd.factorize(df.new_sns_y_6)[0]\n",
    "\n",
    "df['new_sns_y_8']=df.new_sns_8.astype(str) + df.Cardiomegaly.astype(int).astype(str)\n",
    "df['new_sns_y_8']=pd.factorize(df.new_sns_y_8)[0]\n",
    "\n",
    "df['new_sns_y_16']=df.new_sns_16.astype(str) + df.Cardiomegaly.astype(int).astype(str)\n",
    "df['new_sns_y_16']=pd.factorize(df.new_sns_y_16)[0]\n",
    "\n",
    "df['new_sns_y_32']=df.new_sns_32.astype(str) + df.Cardiomegaly.astype(int).astype(str)\n",
    "df['new_sns_y_32']=pd.factorize(df.new_sns_y_32)[0]"
   ]
  },
  {
   "cell_type": "code",
   "execution_count": 8,
   "metadata": {},
   "outputs": [
    {
     "name": "stdout",
     "output_type": "stream",
     "text": [
      "y-sns4 groups classification = \n",
      "0.9296157822472518\n"
     ]
    }
   ],
   "source": [
    "x_group = df['new_sns_y_4'].values.reshape(-1,1)\n",
    "y_group = df['true_group_idx'].values\n",
    "clf = DecisionTreeClassifier(random_state=0, max_depth=5, class_weight='balanced')\n",
    "clf = clf.fit(x_group, y_group)\n",
    "print(f'y-sns4 groups classification = ')\n",
    "print(balanced_accuracy_score(clf.predict(x_group), y_group))"
   ]
  },
  {
   "cell_type": "code",
   "execution_count": 10,
   "metadata": {},
   "outputs": [
    {
     "data": {
      "text/plain": [
       "array([0, 1, 2, 3, 4, 5, 6, 7])"
      ]
     },
     "execution_count": 10,
     "metadata": {},
     "output_type": "execute_result"
    }
   ],
   "source": [
    "df['new_sns_y_4'].unique()"
   ]
  },
  {
   "cell_type": "code",
   "execution_count": 13,
   "metadata": {},
   "outputs": [
    {
     "data": {
      "text/plain": [
       "new_sns_4\n",
       "0    0.000098\n",
       "1    0.200012\n",
       "2    0.600037\n",
       "3    0.800037\n",
       "Name: observed_prob, dtype: float64"
      ]
     },
     "execution_count": 13,
     "metadata": {},
     "output_type": "execute_result"
    }
   ],
   "source": [
    "df[['new_sns_4','observed_prob']].groupby('new_sns_4')['observed_prob'].min()"
   ]
  },
  {
   "cell_type": "code",
   "execution_count": 14,
   "metadata": {},
   "outputs": [],
   "source": [
    "df[df.dataset_idx==1].to_csv('resized_data/chexpert/full_data_chexpert_new_groups_0.4_0.6.csv')\n",
    "df[df.dataset_idx==0].to_csv('resized_data/mimic/full_data_mimic_new_groups_0.4_0.6.csv')"
   ]
  },
  {
   "cell_type": "code",
   "execution_count": 21,
   "metadata": {},
   "outputs": [],
   "source": [
    "##CHECK GROUPS ARE CORRECT\n",
    "chexpert_dir = '/scratch/paa9751/mlhc-project/resized_data/chexpert/full_data_chexpert_new_groups.csv' #removing low accuracy subgroup\n",
    "mimic_dir = '/scratch/paa9751/mlhc-project/resized_data/mimic/full_data_mimic_new_groups.csv'"
   ]
  },
  {
   "cell_type": "code",
   "execution_count": 22,
   "metadata": {},
   "outputs": [],
   "source": [
    "fulldf=pd.concat([pd.read_csv(chexpert_dir),pd.read_csv(mimic_dir)])"
   ]
  },
  {
   "cell_type": "code",
   "execution_count": 23,
   "metadata": {},
   "outputs": [
    {
     "data": {
      "text/plain": [
       "new_sns_y_2\n",
       "0    0.998765\n",
       "1    0.299927\n",
       "2    0.999970\n",
       "3    0.299898\n",
       "Name: observed_prob, dtype: float64"
      ]
     },
     "execution_count": 23,
     "metadata": {},
     "output_type": "execute_result"
    }
   ],
   "source": [
    "fulldf[['new_sns_y_2','observed_prob']].groupby('new_sns_y_2')['observed_prob'].max()"
   ]
  },
  {
   "cell_type": "code",
   "execution_count": 24,
   "metadata": {},
   "outputs": [
    {
     "data": {
      "text/plain": [
       "Index(['Unnamed: 0.1', 'Unnamed: 0', 'subject_id', 'Cardiomegaly', 'old_path',\n",
       "       'new_path', 'split', 'dataset_idx', 'true_group', 'true_group_idx',\n",
       "       'predicted_prob', 'sns_group', 'observed_prob', 'majority_group',\n",
       "       'sns_group_2', 'sns_group_3', 'sns_group_4', 'sns_group_8',\n",
       "       'sns_group_16', 'sample_split', 'pred', 'sns_group_6', 'sns_group_',\n",
       "       'sns_group_5', 'max_accuracy_model_predictions',\n",
       "       'min_loss_model_predictions', 'predprob_new', 'sns_y_2', 'sns_y_3',\n",
       "       'sns_y_4', 'sns_y_6', 'sns_y_8', 'sns_y_16', '2_prob_range',\n",
       "       'new_sns_2', '4_prob_range', 'new_sns_4', '8_prob_range', 'new_sns_8',\n",
       "       '16_prob_range', 'new_sns_16', '32_prob_range', 'new_sns_32',\n",
       "       'new_sns_y_2', 'new_sns_y_4', 'new_sns_y_8', 'new_sns_y_16',\n",
       "       'new_sns_y_32'],\n",
       "      dtype='object')"
      ]
     },
     "execution_count": 24,
     "metadata": {},
     "output_type": "execute_result"
    }
   ],
   "source": [
    "fulldf.columns"
   ]
  },
  {
   "cell_type": "markdown",
   "metadata": {},
   "source": [
    "### BALANCING:"
   ]
  },
  {
   "cell_type": "code",
   "execution_count": 15,
   "metadata": {},
   "outputs": [],
   "source": [
    "chex = pd.read_csv('resized_data/chexpert/full_data_chexpert_new_groups_0.4_0.6.csv').iloc[:,1:]\n",
    "mimic = pd.read_csv('resized_data/mimic/full_data_mimic_new_groups_0.4_0.6.csv').iloc[:,1:]\n",
    "df=pd.concat([chex,mimic])"
   ]
  },
  {
   "cell_type": "markdown",
   "metadata": {},
   "source": [
    "#### 1. 4 GROUPS (with and without label) "
   ]
  },
  {
   "cell_type": "code",
   "execution_count": 22,
   "metadata": {},
   "outputs": [
    {
     "data": {
      "text/plain": [
       "new_sns_y_4\n",
       "0    4509\n",
       "6    3856\n",
       "5    1529\n",
       "2    1177\n",
       "4     474\n",
       "3     380\n",
       "1     373\n",
       "7     370\n",
       "Name: count, dtype: int64"
      ]
     },
     "execution_count": 22,
     "metadata": {},
     "output_type": "execute_result"
    }
   ],
   "source": [
    "df[df.split=='train'].new_sns_y_4.value_counts()"
   ]
  },
  {
   "cell_type": "code",
   "execution_count": 23,
   "metadata": {},
   "outputs": [
    {
     "data": {
      "text/plain": [
       "new_sns_y_4\n",
       "0    944\n",
       "6    831\n",
       "5    325\n",
       "2    278\n",
       "4    117\n",
       "3     75\n",
       "7     67\n",
       "1     66\n",
       "Name: count, dtype: int64"
      ]
     },
     "execution_count": 23,
     "metadata": {},
     "output_type": "execute_result"
    }
   ],
   "source": [
    "df[df.split=='val'].new_sns_y_4.value_counts()"
   ]
  },
  {
   "cell_type": "code",
   "execution_count": 24,
   "metadata": {},
   "outputs": [],
   "source": [
    "def subsample_train(data):\n",
    "    return data.sample(370) #replace accordingly \n",
    "def subsample_val(data):\n",
    "    return data.sample(66) #replace accordingly \n",
    "undersampled_train=df[df.split=='train'].groupby('new_sns_y_4').apply(subsample_train) #new_sns_y_4\n",
    "undersampled_val=df[df.split=='val'].groupby('new_sns_y_4').apply(subsample_val) #new_sns_y_4\n",
    "undersampled_groups4=pd.concat([undersampled_train,undersampled_val,df[df.split=='test']])"
   ]
  },
  {
   "cell_type": "code",
   "execution_count": 30,
   "metadata": {},
   "outputs": [
    {
     "name": "stdout",
     "output_type": "stream",
     "text": [
      "(5990, 47)\n"
     ]
    },
    {
     "data": {
      "text/plain": [
       "new_sns_y_4\n",
       "0    370\n",
       "1    370\n",
       "2    370\n",
       "3    370\n",
       "4    370\n",
       "5    370\n",
       "6    370\n",
       "7    370\n",
       "Name: count, dtype: int64"
      ]
     },
     "execution_count": 30,
     "metadata": {},
     "output_type": "execute_result"
    }
   ],
   "source": [
    "print(undersampled_groups4.shape)\n",
    "undersampled_groups4[undersampled_groups4.split=='train'].new_sns_y_4.value_counts() # new_sns_y_4"
   ]
  },
  {
   "cell_type": "code",
   "execution_count": 29,
   "metadata": {},
   "outputs": [
    {
     "data": {
      "text/plain": [
       "(2960, 47)"
      ]
     },
     "execution_count": 29,
     "metadata": {},
     "output_type": "execute_result"
    }
   ],
   "source": [
    "undersampled_groups4[undersampled_groups4.split=='train'].shape"
   ]
  },
  {
   "cell_type": "code",
   "execution_count": 31,
   "metadata": {},
   "outputs": [],
   "source": [
    "undersampled_groups4[undersampled_groups4.dataset_idx==1].to_csv('resized_data/chexpert/full_data_chexpert_y4group_balanced_0.4_0.6.csv')\n",
    "undersampled_groups4[undersampled_groups4.dataset_idx==0].to_csv('resized_data/mimic/full_data_mimic_y4group_balanced_0.4_0.6.csv')"
   ]
  },
  {
   "cell_type": "markdown",
   "metadata": {},
   "source": [
    "#### 2. 2 GROUPS"
   ]
  },
  {
   "cell_type": "code",
   "execution_count": 19,
   "metadata": {},
   "outputs": [
    {
     "data": {
      "text/plain": [
       "new_sns_y_2\n",
       "0    1113\n",
       "2    1027\n",
       "1     111\n",
       "3     103\n",
       "Name: count, dtype: int64"
      ]
     },
     "execution_count": 19,
     "metadata": {},
     "output_type": "execute_result"
    }
   ],
   "source": [
    "df[df.split=='val'].new_sns_y_2.value_counts()"
   ]
  },
  {
   "cell_type": "code",
   "execution_count": 20,
   "metadata": {},
   "outputs": [],
   "source": [
    "def subsample_train(data):\n",
    "    return data.sample(547)\n",
    "def subsample_val(data):\n",
    "    return data.sample(103)\n",
    "undersampled_train=df[df.split=='train'].groupby('new_sns_y_2').apply(subsample_train)\n",
    "undersampled_val=df[df.split=='val'].groupby('new_sns_y_2').apply(subsample_val)\n",
    "undersampled_groups2=pd.concat([undersampled_train,undersampled_val,df[df.split=='test']])"
   ]
  },
  {
   "cell_type": "code",
   "execution_count": 22,
   "metadata": {},
   "outputs": [
    {
     "data": {
      "text/plain": [
       "new_sns_y_2\n",
       "0    103\n",
       "1    103\n",
       "2    103\n",
       "3    103\n",
       "Name: count, dtype: int64"
      ]
     },
     "execution_count": 22,
     "metadata": {},
     "output_type": "execute_result"
    }
   ],
   "source": [
    "undersampled_groups2[undersampled_groups2.split=='val'].new_sns_y_2.value_counts()#.idxmin()howcanilivewithoutishahowisitevenpossibleimsoinlove"
   ]
  },
  {
   "cell_type": "code",
   "execution_count": 23,
   "metadata": {},
   "outputs": [],
   "source": [
    "undersampled_groups2[undersampled_groups2.dataset_idx==1].to_csv('resized_data/chexpert/full_data_chexpert_y2group_balanced.csv')\n",
    "undersampled_groups2[undersampled_groups2.dataset_idx==0].to_csv('resized_data/mimic/full_data_mimic_y2group_balanced.csv')"
   ]
  },
  {
   "cell_type": "markdown",
   "metadata": {},
   "source": [
    "#### 2. 8 GROUPS"
   ]
  },
  {
   "cell_type": "code",
   "execution_count": 25,
   "metadata": {},
   "outputs": [
    {
     "data": {
      "text/plain": [
       "new_sns_y_8\n",
       "1     2541\n",
       "7     2082\n",
       "0     1362\n",
       "14    1199\n",
       "11     827\n",
       "4      820\n",
       "12     677\n",
       "3      499\n",
       "15     153\n",
       "6      152\n",
       "5      150\n",
       "2      137\n",
       "8      137\n",
       "9      132\n",
       "10     130\n",
       "13     127\n",
       "Name: count, dtype: int64"
      ]
     },
     "execution_count": 25,
     "metadata": {},
     "output_type": "execute_result"
    }
   ],
   "source": [
    "df[df.split=='train'].new_sns_y_8.value_counts()"
   ]
  },
  {
   "cell_type": "code",
   "execution_count": 27,
   "metadata": {},
   "outputs": [
    {
     "data": {
      "text/plain": [
       "new_sns_y_8\n",
       "0     127\n",
       "1     127\n",
       "2     127\n",
       "3     127\n",
       "4     127\n",
       "5     127\n",
       "6     127\n",
       "7     127\n",
       "8     127\n",
       "9     127\n",
       "10    127\n",
       "11    127\n",
       "12    127\n",
       "13    127\n",
       "14    127\n",
       "15    127\n",
       "Name: count, dtype: int64"
      ]
     },
     "execution_count": 27,
     "metadata": {},
     "output_type": "execute_result"
    }
   ],
   "source": [
    "def subsample_train(data):\n",
    "    return data.sample(127)\n",
    "def subsample_val(data):\n",
    "    return data.sample(19)\n",
    "undersampled_train=df[df.split=='train'].groupby('new_sns_y_8').apply(subsample_train)\n",
    "undersampled_val=df[df.split=='val'].groupby('new_sns_y_8').apply(subsample_val)\n",
    "undersampled_groups8=pd.concat([undersampled_train,undersampled_val,df[df.split=='test']])\n",
    "undersampled_groups8[undersampled_groups8.split=='train'].new_sns_y_8.value_counts()#.idxmin()howcanilivewithoutishahowisitevenpossibleimsoinlove"
   ]
  },
  {
   "cell_type": "code",
   "execution_count": 28,
   "metadata": {},
   "outputs": [],
   "source": [
    "undersampled_groups8[undersampled_groups8.dataset_idx==1].to_csv('resized_data/chexpert/full_data_chexpert_y8group_balanced.csv')\n",
    "undersampled_groups8[undersampled_groups8.dataset_idx==0].to_csv('resized_data/mimic/full_data_mimic_y8group_balanced.csv')"
   ]
  },
  {
   "cell_type": "code",
   "execution_count": 29,
   "metadata": {},
   "outputs": [
    {
     "data": {
      "text/plain": [
       "true_group_idx\n",
       "2    669\n",
       "0    602\n",
       "3    414\n",
       "1    347\n",
       "Name: count, dtype: int64"
      ]
     },
     "execution_count": 29,
     "metadata": {},
     "output_type": "execute_result"
    }
   ],
   "source": [
    "undersampled_groups8[undersampled_groups8.split=='train'].true_group_idx.value_counts()"
   ]
  },
  {
   "cell_type": "code",
   "execution_count": 30,
   "metadata": {},
   "outputs": [
    {
     "data": {
      "text/plain": [
       "true_group_idx\n",
       "2    702\n",
       "0    638\n",
       "3    430\n",
       "1    366\n",
       "Name: count, dtype: int64"
      ]
     },
     "execution_count": 30,
     "metadata": {},
     "output_type": "execute_result"
    }
   ],
   "source": [
    "undersampled_groups4[undersampled_groups4.split=='train'].true_group_idx.value_counts()"
   ]
  },
  {
   "cell_type": "code",
   "execution_count": 31,
   "metadata": {},
   "outputs": [
    {
     "data": {
      "text/plain": [
       "true_group_idx\n",
       "2    727\n",
       "0    653\n",
       "3    441\n",
       "1    367\n",
       "Name: count, dtype: int64"
      ]
     },
     "execution_count": 31,
     "metadata": {},
     "output_type": "execute_result"
    }
   ],
   "source": [
    "undersampled_groups2[undersampled_groups2.split=='train'].true_group_idx.value_counts()"
   ]
  },
  {
   "cell_type": "code",
   "execution_count": 16,
   "metadata": {},
   "outputs": [],
   "source": [
    "#check balanced data: \n",
    "yc = '/scratch/paa9751/mlhc-project/resized_data/chexpert/full_data_chexpert_y2group_balanced.csv'\n",
    "ym = '/scratch/paa9751/mlhc-project/resized_data/mimic/full_data_mimic_y2group_balanced.csv'\n",
    "ysns2 = pd.concat([pd.read_csv(yc),pd.read_csv(ym)])\n",
    "yc = '/scratch/paa9751/mlhc-project/resized_data/chexpert/full_data_chexpert_y4group_balanced.csv'\n",
    "ym = '/scratch/paa9751/mlhc-project/resized_data/mimic/full_data_mimic_y4group_balanced.csv'\n",
    "ysns4 = pd.concat([pd.read_csv(yc),pd.read_csv(ym)])\n",
    "yc = '/scratch/paa9751/mlhc-project/resized_data/chexpert/full_data_chexpert_y8group_balanced.csv'\n",
    "ym = '/scratch/paa9751/mlhc-project/resized_data/mimic/full_data_mimic_y8group_balanced.csv'\n",
    "ysns8 = pd.concat([pd.read_csv(yc),pd.read_csv(ym)])\n",
    "\n",
    "\n",
    "c = '/scratch/paa9751/mlhc-project/resized_data/chexpert/full_data_chexpert_2group_balanced.csv'\n",
    "m = '/scratch/paa9751/mlhc-project/resized_data/mimic/full_data_mimic_2group_balanced.csv'\n",
    "sns2 = pd.concat([pd.read_csv(c),pd.read_csv(m)])\n",
    "c = '/scratch/paa9751/mlhc-project/resized_data/chexpert/full_data_chexpert_4group_balanced.csv'\n",
    "m = '/scratch/paa9751/mlhc-project/resized_data/mimic/full_data_mimic_4group_balanced.csv'\n",
    "sns4 = pd.concat([pd.read_csv(c),pd.read_csv(m)])\n",
    "c = '/scratch/paa9751/mlhc-project/resized_data/chexpert/full_data_chexpert_8group_balanced.csv'\n",
    "m = '/scratch/paa9751/mlhc-project/resized_data/mimic/full_data_mimic_8group_balanced.csv'\n",
    "sns8 = pd.concat([pd.read_csv(c),pd.read_csv(m)])"
   ]
  },
  {
   "cell_type": "code",
   "execution_count": 32,
   "metadata": {},
   "outputs": [
    {
     "data": {
      "text/html": [
       "<div>\n",
       "<style scoped>\n",
       "    .dataframe tbody tr th:only-of-type {\n",
       "        vertical-align: middle;\n",
       "    }\n",
       "\n",
       "    .dataframe tbody tr th {\n",
       "        vertical-align: top;\n",
       "    }\n",
       "\n",
       "    .dataframe thead th {\n",
       "        text-align: right;\n",
       "    }\n",
       "</style>\n",
       "<table border=\"1\" class=\"dataframe\">\n",
       "  <thead>\n",
       "    <tr style=\"text-align: right;\">\n",
       "      <th></th>\n",
       "      <th>count</th>\n",
       "      <th>count</th>\n",
       "    </tr>\n",
       "    <tr>\n",
       "      <th>true_group_idx</th>\n",
       "      <th></th>\n",
       "      <th></th>\n",
       "    </tr>\n",
       "  </thead>\n",
       "  <tbody>\n",
       "    <tr>\n",
       "      <th>2</th>\n",
       "      <td>719</td>\n",
       "      <td>727</td>\n",
       "    </tr>\n",
       "    <tr>\n",
       "      <th>0</th>\n",
       "      <td>700</td>\n",
       "      <td>653</td>\n",
       "    </tr>\n",
       "    <tr>\n",
       "      <th>3</th>\n",
       "      <td>442</td>\n",
       "      <td>441</td>\n",
       "    </tr>\n",
       "    <tr>\n",
       "      <th>1</th>\n",
       "      <td>375</td>\n",
       "      <td>367</td>\n",
       "    </tr>\n",
       "  </tbody>\n",
       "</table>\n",
       "</div>"
      ],
      "text/plain": [
       "                count  count\n",
       "true_group_idx              \n",
       "2                 719    727\n",
       "0                 700    653\n",
       "3                 442    441\n",
       "1                 375    367"
      ]
     },
     "execution_count": 32,
     "metadata": {},
     "output_type": "execute_result"
    }
   ],
   "source": [
    "#train:\n",
    "y2=ysns2[ysns2.split=='train'].true_group_idx.value_counts()#.plot.bar()\n",
    "s2=sns2[sns2.split=='train'].true_group_idx.value_counts()\n",
    "pd.concat([s2,y2],axis=1)#.plot.bar()"
   ]
  },
  {
   "cell_type": "code",
   "execution_count": 33,
   "metadata": {},
   "outputs": [
    {
     "data": {
      "text/html": [
       "<div>\n",
       "<style scoped>\n",
       "    .dataframe tbody tr th:only-of-type {\n",
       "        vertical-align: middle;\n",
       "    }\n",
       "\n",
       "    .dataframe tbody tr th {\n",
       "        vertical-align: top;\n",
       "    }\n",
       "\n",
       "    .dataframe thead th {\n",
       "        text-align: right;\n",
       "    }\n",
       "</style>\n",
       "<table border=\"1\" class=\"dataframe\">\n",
       "  <thead>\n",
       "    <tr style=\"text-align: right;\">\n",
       "      <th></th>\n",
       "      <th>count</th>\n",
       "      <th>count</th>\n",
       "    </tr>\n",
       "    <tr>\n",
       "      <th>true_group_idx</th>\n",
       "      <th></th>\n",
       "      <th></th>\n",
       "    </tr>\n",
       "  </thead>\n",
       "  <tbody>\n",
       "    <tr>\n",
       "      <th>2</th>\n",
       "      <td>719</td>\n",
       "      <td>702</td>\n",
       "    </tr>\n",
       "    <tr>\n",
       "      <th>0</th>\n",
       "      <td>658</td>\n",
       "      <td>638</td>\n",
       "    </tr>\n",
       "    <tr>\n",
       "      <th>3</th>\n",
       "      <td>445</td>\n",
       "      <td>430</td>\n",
       "    </tr>\n",
       "    <tr>\n",
       "      <th>1</th>\n",
       "      <td>374</td>\n",
       "      <td>366</td>\n",
       "    </tr>\n",
       "  </tbody>\n",
       "</table>\n",
       "</div>"
      ],
      "text/plain": [
       "                count  count\n",
       "true_group_idx              \n",
       "2                 719    702\n",
       "0                 658    638\n",
       "3                 445    430\n",
       "1                 374    366"
      ]
     },
     "execution_count": 33,
     "metadata": {},
     "output_type": "execute_result"
    }
   ],
   "source": [
    "y4=ysns4[ysns4.split=='train'].true_group_idx.value_counts()#.plot.bar()\n",
    "s4=sns4[sns4.split=='train'].true_group_idx.value_counts()\n",
    "pd.concat([s4,y4],axis=1)#.plot.bar()"
   ]
  },
  {
   "cell_type": "code",
   "execution_count": 34,
   "metadata": {},
   "outputs": [
    {
     "data": {
      "text/html": [
       "<div>\n",
       "<style scoped>\n",
       "    .dataframe tbody tr th:only-of-type {\n",
       "        vertical-align: middle;\n",
       "    }\n",
       "\n",
       "    .dataframe tbody tr th {\n",
       "        vertical-align: top;\n",
       "    }\n",
       "\n",
       "    .dataframe thead th {\n",
       "        text-align: right;\n",
       "    }\n",
       "</style>\n",
       "<table border=\"1\" class=\"dataframe\">\n",
       "  <thead>\n",
       "    <tr style=\"text-align: right;\">\n",
       "      <th></th>\n",
       "      <th>count</th>\n",
       "      <th>count</th>\n",
       "    </tr>\n",
       "    <tr>\n",
       "      <th>true_group_idx</th>\n",
       "      <th></th>\n",
       "      <th></th>\n",
       "    </tr>\n",
       "  </thead>\n",
       "  <tbody>\n",
       "    <tr>\n",
       "      <th>2</th>\n",
       "      <td>677</td>\n",
       "      <td>669</td>\n",
       "    </tr>\n",
       "    <tr>\n",
       "      <th>0</th>\n",
       "      <td>625</td>\n",
       "      <td>602</td>\n",
       "    </tr>\n",
       "    <tr>\n",
       "      <th>3</th>\n",
       "      <td>409</td>\n",
       "      <td>414</td>\n",
       "    </tr>\n",
       "    <tr>\n",
       "      <th>1</th>\n",
       "      <td>361</td>\n",
       "      <td>347</td>\n",
       "    </tr>\n",
       "  </tbody>\n",
       "</table>\n",
       "</div>"
      ],
      "text/plain": [
       "                count  count\n",
       "true_group_idx              \n",
       "2                 677    669\n",
       "0                 625    602\n",
       "3                 409    414\n",
       "1                 361    347"
      ]
     },
     "execution_count": 34,
     "metadata": {},
     "output_type": "execute_result"
    }
   ],
   "source": [
    "y8=ysns8[ysns8.split=='train'].true_group_idx.value_counts()#.plot.bar()\n",
    "s8=sns8[sns8.split=='train'].true_group_idx.value_counts()\n",
    "pd.concat([s8,y8],axis=1)#.plot.bar()"
   ]
  },
  {
   "cell_type": "code",
   "execution_count": null,
   "metadata": {},
   "outputs": [],
   "source": []
  }
 ],
 "metadata": {
  "kernelspec": {
   "display_name": "torchgeo",
   "language": "python",
   "name": "pytorch-example"
  },
  "language_info": {
   "codemirror_mode": {
    "name": "ipython",
    "version": 3
   },
   "file_extension": ".py",
   "mimetype": "text/x-python",
   "name": "python",
   "nbconvert_exporter": "python",
   "pygments_lexer": "ipython3",
   "version": "3.11.5"
  }
 },
 "nbformat": 4,
 "nbformat_minor": 4
}
