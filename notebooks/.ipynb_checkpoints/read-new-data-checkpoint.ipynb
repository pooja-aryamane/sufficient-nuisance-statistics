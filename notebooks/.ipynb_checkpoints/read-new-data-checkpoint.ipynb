{
 "cells": [
  {
   "cell_type": "code",
   "execution_count": 1,
   "id": "1775fc8f-7931-4410-a1e9-ea2d8a7b2389",
   "metadata": {},
   "outputs": [],
   "source": [
    "import pandas as pd\n",
    "import numpy as np\n",
    "import random \n",
    "import torch \n",
    "import os \n",
    "from PIL import Image\n",
    "from torch.utils.data import Dataset\n",
    "from torch.utils.data import DataLoader\n",
    "import torchvision.transforms as transforms\n",
    "from torchvision import models\n",
    "from torch import nn\n",
    "from scipy import stats\n",
    "import matplotlib.pyplot as plt\n",
    "from matplotlib import image\n",
    "import shutil\n",
    "from sklearn.mixture import GaussianMixture\n",
    "from sklearn.tree import DecisionTreeClassifier\n",
    "from sklearn.metrics import confusion_matrix, balanced_accuracy_score"
   ]
  },
  {
   "cell_type": "code",
   "execution_count": 2,
   "id": "d6aa8f7c-b474-4aca-a022-eac862eae0ff",
   "metadata": {},
   "outputs": [],
   "source": [
    "from BalancingGroups.datasets import * \n",
    "import utils_glue"
   ]
  },
  {
   "cell_type": "code",
   "execution_count": 4,
   "id": "463f4463-2346-471c-923d-e2b9700dff7c",
   "metadata": {},
   "outputs": [],
   "source": [
    "datapath = '/scratch/paa9751/mlhc-project/new_data'\n",
    "dataloaders = get_loaders(datapath, \"multinli\", 10, method=\"erm\", duplicates=None)"
   ]
  },
  {
   "cell_type": "code",
   "execution_count": 5,
   "id": "a991956e-a0ce-4ee1-8375-df0caf5835a8",
   "metadata": {},
   "outputs": [
    {
     "name": "stdout",
     "output_type": "stream",
     "text": [
      "shapes\n",
      "torch.Size([10]) torch.Size([10, 128, 3]) torch.Size([10]) torch.Size([10])\n",
      "************************************************\n",
      "tensor([131284,  23117, 198590,  30433,  53495, 126077,  77863, 163609,  26764,\n",
      "        182149])\n",
      "************************************************\n",
      "************************************************\n",
      "tensor([1, 2, 1, 0, 2, 0, 1, 1, 0, 2])\n",
      "************************************************\n",
      "tensor([0, 0, 0, 0, 0, 0, 0, 0, 0, 0])\n"
     ]
    }
   ],
   "source": [
    "for x in dataloaders['tr']: #i,x,y,g \n",
    "    print('shapes')\n",
    "    print(x[0].shape,x[1].shape,x[2].shape,x[3].shape)\n",
    "    print('************************************************')\n",
    "    print(x[0])\n",
    "    print('************************************************')\n",
    "    #print(x[1][x[1][2]==1])\n",
    "    print('************************************************')\n",
    "    print(x[2])\n",
    "    print('************************************************')\n",
    "    print(x[3])\n",
    "    break "
   ]
  },
  {
   "cell_type": "code",
   "execution_count": 149,
   "id": "80efca3f-ffba-49c2-a68b-c33d0d8f1376",
   "metadata": {},
   "outputs": [],
   "source": [
    "import torch.nn.functional as F "
   ]
  },
  {
   "cell_type": "code",
   "execution_count": 7,
   "id": "59766c70-cef0-4329-bea2-bfda48490860",
   "metadata": {},
   "outputs": [],
   "source": [
    "test=x[1]\n",
    "shifts=test.argmax(1)[:,2]\n",
    "shifts=-shifts\n",
    "batch_size, seq_length, channels = test.shape\n",
    "arange1 = torch.arange(seq_length)\n",
    "arange2 = arange1.unsqueeze(0) - shifts.unsqueeze(1)\n",
    "arange2 = arange2 % seq_length\n",
    "res = test[torch.arange(batch_size).unsqueeze(1), arange2, :]\n",
    "mask_zero=torch.unsqueeze(res[:,:,2], dim=2).expand(-1, -1, 3)\n",
    "res=res*mask_zero"
   ]
  },
  {
   "cell_type": "code",
   "execution_count": 183,
   "id": "ebdb9741-2e6e-43b9-8bff-f32c524d8e21",
   "metadata": {},
   "outputs": [
    {
     "name": "stdout",
     "output_type": "stream",
     "text": [
      "torch.Size([1, 128, 3])\n",
      "torch.Size([2, 128, 3])\n",
      "torch.Size([3, 128, 3])\n",
      "torch.Size([4, 128, 3])\n",
      "torch.Size([5, 128, 3])\n"
     ]
    }
   ],
   "source": [
    "test=x[1]\n",
    "mask=x[1][:,:,2]==1\n",
    "\n",
    "for k,batch in enumerate(range(test.shape[0])):\n",
    "    test_batch = test[batch][mask[batch]]\n",
    "    test_padded = F.pad(test_batch,(0,0,0,128-test_batch.shape[0]),'constant',0)\n",
    "    test_padded=test_padded.unsqueeze(0)\n",
    "    if k==0:\n",
    "        result = test_padded\n",
    "    else:\n",
    "        result = torch.cat((result, test_padded))\n",
    "    print(result.shape)"
   ]
  },
  {
   "cell_type": "code",
   "execution_count": 169,
   "id": "9bff4be0-6ef6-4725-b5a3-a83420813443",
   "metadata": {},
   "outputs": [
    {
     "data": {
      "text/plain": [
       "torch.Size([128, 3])"
      ]
     },
     "execution_count": 169,
     "metadata": {},
     "output_type": "execute_result"
    }
   ],
   "source": [
    "test0=test[0][mask[0]]\n",
    "(F.pad(test0,(0,0,0,128-test0.shape[0]),'constant',0)).shape"
   ]
  },
  {
   "cell_type": "code",
   "execution_count": 75,
   "id": "da2cc263-6d22-4c10-822f-be022070454a",
   "metadata": {},
   "outputs": [
    {
     "data": {
      "text/plain": [
       "torch.Size([5, 128, 1])"
      ]
     },
     "execution_count": 75,
     "metadata": {},
     "output_type": "execute_result"
    }
   ],
   "source": [
    "mask=(x[1][:,:,2]==1).int()\n",
    "# mask=mask.unsqueeze(2)\n",
    "# mask=mask.expand(-1,-1,3)\n",
    "# x[1][mask].shape\n",
    "mask=mask.unsqueeze(-1)\n",
    "\n",
    "mask.shape"
   ]
  },
  {
   "cell_type": "code",
   "execution_count": 76,
   "id": "ad9382c0-3a2d-4558-a16d-935ae9ec2c79",
   "metadata": {},
   "outputs": [],
   "source": [
    "masked_tensor = x[1][mask].reshape(-1, 3)"
   ]
  },
  {
   "cell_type": "code",
   "execution_count": 77,
   "id": "426f3db3-812f-4280-846c-3998f64f16bb",
   "metadata": {},
   "outputs": [],
   "source": [
    "counts = mask.sum(axis=1)\n",
    "result = np.split(masked_tensor, np.cumsum(counts[:-1]))"
   ]
  },
  {
   "cell_type": "code",
   "execution_count": 91,
   "id": "c16bdea9-afcb-4a88-87e4-ba7780a443dd",
   "metadata": {},
   "outputs": [
    {
     "data": {
      "text/plain": [
       "tensor([[ 7],\n",
       "        [14],\n",
       "        [19],\n",
       "        [15],\n",
       "        [10]])"
      ]
     },
     "execution_count": 91,
     "metadata": {},
     "output_type": "execute_result"
    }
   ],
   "source": [
    "counts"
   ]
  },
  {
   "cell_type": "code",
   "execution_count": 16,
   "id": "0d7610e1-043f-4d41-994b-43d9aee24f6a",
   "metadata": {},
   "outputs": [],
   "source": [
    "metadata=pd.read_csv('new_data/multinli/data/metadata_random.csv')\n",
    "metadata_random = pd.read_csv('new_data/metadata_multinli.csv')"
   ]
  },
  {
   "cell_type": "code",
   "execution_count": 17,
   "id": "47fabceb-cbff-4a44-a28f-ddc9130fb4ae",
   "metadata": {},
   "outputs": [
    {
     "data": {
      "text/html": [
       "<div>\n",
       "<style scoped>\n",
       "    .dataframe tbody tr th:only-of-type {\n",
       "        vertical-align: middle;\n",
       "    }\n",
       "\n",
       "    .dataframe tbody tr th {\n",
       "        vertical-align: top;\n",
       "    }\n",
       "\n",
       "    .dataframe thead th {\n",
       "        text-align: right;\n",
       "    }\n",
       "</style>\n",
       "<table border=\"1\" class=\"dataframe\">\n",
       "  <thead>\n",
       "    <tr style=\"text-align: right;\">\n",
       "      <th></th>\n",
       "      <th>Unnamed: 0</th>\n",
       "      <th>gold_label</th>\n",
       "      <th>sentence2_has_negation</th>\n",
       "      <th>split</th>\n",
       "    </tr>\n",
       "  </thead>\n",
       "  <tbody>\n",
       "    <tr>\n",
       "      <th>0</th>\n",
       "      <td>0</td>\n",
       "      <td>2</td>\n",
       "      <td>0</td>\n",
       "      <td>2</td>\n",
       "    </tr>\n",
       "    <tr>\n",
       "      <th>1</th>\n",
       "      <td>1</td>\n",
       "      <td>1</td>\n",
       "      <td>0</td>\n",
       "      <td>0</td>\n",
       "    </tr>\n",
       "    <tr>\n",
       "      <th>2</th>\n",
       "      <td>2</td>\n",
       "      <td>1</td>\n",
       "      <td>0</td>\n",
       "      <td>2</td>\n",
       "    </tr>\n",
       "    <tr>\n",
       "      <th>3</th>\n",
       "      <td>3</td>\n",
       "      <td>1</td>\n",
       "      <td>0</td>\n",
       "      <td>2</td>\n",
       "    </tr>\n",
       "    <tr>\n",
       "      <th>4</th>\n",
       "      <td>4</td>\n",
       "      <td>2</td>\n",
       "      <td>0</td>\n",
       "      <td>0</td>\n",
       "    </tr>\n",
       "    <tr>\n",
       "      <th>...</th>\n",
       "      <td>...</td>\n",
       "      <td>...</td>\n",
       "      <td>...</td>\n",
       "      <td>...</td>\n",
       "    </tr>\n",
       "    <tr>\n",
       "      <th>412344</th>\n",
       "      <td>412697</td>\n",
       "      <td>0</td>\n",
       "      <td>0</td>\n",
       "      <td>1</td>\n",
       "    </tr>\n",
       "    <tr>\n",
       "      <th>412345</th>\n",
       "      <td>412698</td>\n",
       "      <td>0</td>\n",
       "      <td>0</td>\n",
       "      <td>0</td>\n",
       "    </tr>\n",
       "    <tr>\n",
       "      <th>412346</th>\n",
       "      <td>412699</td>\n",
       "      <td>0</td>\n",
       "      <td>0</td>\n",
       "      <td>1</td>\n",
       "    </tr>\n",
       "    <tr>\n",
       "      <th>412347</th>\n",
       "      <td>412700</td>\n",
       "      <td>2</td>\n",
       "      <td>0</td>\n",
       "      <td>2</td>\n",
       "    </tr>\n",
       "    <tr>\n",
       "      <th>412348</th>\n",
       "      <td>412701</td>\n",
       "      <td>1</td>\n",
       "      <td>0</td>\n",
       "      <td>2</td>\n",
       "    </tr>\n",
       "  </tbody>\n",
       "</table>\n",
       "<p>412349 rows × 4 columns</p>\n",
       "</div>"
      ],
      "text/plain": [
       "        Unnamed: 0  gold_label  sentence2_has_negation  split\n",
       "0                0           2                       0      2\n",
       "1                1           1                       0      0\n",
       "2                2           1                       0      2\n",
       "3                3           1                       0      2\n",
       "4                4           2                       0      0\n",
       "...            ...         ...                     ...    ...\n",
       "412344      412697           0                       0      1\n",
       "412345      412698           0                       0      0\n",
       "412346      412699           0                       0      1\n",
       "412347      412700           2                       0      2\n",
       "412348      412701           1                       0      2\n",
       "\n",
       "[412349 rows x 4 columns]"
      ]
     },
     "execution_count": 17,
     "metadata": {},
     "output_type": "execute_result"
    }
   ],
   "source": [
    "metadata"
   ]
  },
  {
   "cell_type": "code",
   "execution_count": 18,
   "id": "74b848f1-e54b-4e0c-af29-a0d3b1c110d4",
   "metadata": {},
   "outputs": [
    {
     "data": {
      "text/html": [
       "<div>\n",
       "<style scoped>\n",
       "    .dataframe tbody tr th:only-of-type {\n",
       "        vertical-align: middle;\n",
       "    }\n",
       "\n",
       "    .dataframe tbody tr th {\n",
       "        vertical-align: top;\n",
       "    }\n",
       "\n",
       "    .dataframe thead th {\n",
       "        text-align: right;\n",
       "    }\n",
       "</style>\n",
       "<table border=\"1\" class=\"dataframe\">\n",
       "  <thead>\n",
       "    <tr style=\"text-align: right;\">\n",
       "      <th></th>\n",
       "      <th>id</th>\n",
       "      <th>filename</th>\n",
       "      <th>split</th>\n",
       "      <th>y</th>\n",
       "      <th>a</th>\n",
       "    </tr>\n",
       "  </thead>\n",
       "  <tbody>\n",
       "    <tr>\n",
       "      <th>0</th>\n",
       "      <td>0</td>\n",
       "      <td>0</td>\n",
       "      <td>2</td>\n",
       "      <td>2</td>\n",
       "      <td>0</td>\n",
       "    </tr>\n",
       "    <tr>\n",
       "      <th>1</th>\n",
       "      <td>1</td>\n",
       "      <td>1</td>\n",
       "      <td>0</td>\n",
       "      <td>1</td>\n",
       "      <td>0</td>\n",
       "    </tr>\n",
       "    <tr>\n",
       "      <th>2</th>\n",
       "      <td>2</td>\n",
       "      <td>2</td>\n",
       "      <td>2</td>\n",
       "      <td>1</td>\n",
       "      <td>0</td>\n",
       "    </tr>\n",
       "    <tr>\n",
       "      <th>3</th>\n",
       "      <td>3</td>\n",
       "      <td>3</td>\n",
       "      <td>2</td>\n",
       "      <td>1</td>\n",
       "      <td>0</td>\n",
       "    </tr>\n",
       "    <tr>\n",
       "      <th>4</th>\n",
       "      <td>4</td>\n",
       "      <td>4</td>\n",
       "      <td>0</td>\n",
       "      <td>2</td>\n",
       "      <td>0</td>\n",
       "    </tr>\n",
       "    <tr>\n",
       "      <th>...</th>\n",
       "      <td>...</td>\n",
       "      <td>...</td>\n",
       "      <td>...</td>\n",
       "      <td>...</td>\n",
       "      <td>...</td>\n",
       "    </tr>\n",
       "    <tr>\n",
       "      <th>412344</th>\n",
       "      <td>412344</td>\n",
       "      <td>412344</td>\n",
       "      <td>1</td>\n",
       "      <td>0</td>\n",
       "      <td>0</td>\n",
       "    </tr>\n",
       "    <tr>\n",
       "      <th>412345</th>\n",
       "      <td>412345</td>\n",
       "      <td>412345</td>\n",
       "      <td>0</td>\n",
       "      <td>0</td>\n",
       "      <td>0</td>\n",
       "    </tr>\n",
       "    <tr>\n",
       "      <th>412346</th>\n",
       "      <td>412346</td>\n",
       "      <td>412346</td>\n",
       "      <td>1</td>\n",
       "      <td>0</td>\n",
       "      <td>0</td>\n",
       "    </tr>\n",
       "    <tr>\n",
       "      <th>412347</th>\n",
       "      <td>412347</td>\n",
       "      <td>412347</td>\n",
       "      <td>2</td>\n",
       "      <td>2</td>\n",
       "      <td>0</td>\n",
       "    </tr>\n",
       "    <tr>\n",
       "      <th>412348</th>\n",
       "      <td>412348</td>\n",
       "      <td>412348</td>\n",
       "      <td>2</td>\n",
       "      <td>1</td>\n",
       "      <td>0</td>\n",
       "    </tr>\n",
       "  </tbody>\n",
       "</table>\n",
       "<p>412349 rows × 5 columns</p>\n",
       "</div>"
      ],
      "text/plain": [
       "            id  filename  split  y  a\n",
       "0            0         0      2  2  0\n",
       "1            1         1      0  1  0\n",
       "2            2         2      2  1  0\n",
       "3            3         3      2  1  0\n",
       "4            4         4      0  2  0\n",
       "...        ...       ...    ... .. ..\n",
       "412344  412344    412344      1  0  0\n",
       "412345  412345    412345      0  0  0\n",
       "412346  412346    412346      1  0  0\n",
       "412347  412347    412347      2  2  0\n",
       "412348  412348    412348      2  1  0\n",
       "\n",
       "[412349 rows x 5 columns]"
      ]
     },
     "execution_count": 18,
     "metadata": {},
     "output_type": "execute_result"
    }
   ],
   "source": [
    "metadata_random"
   ]
  },
  {
   "cell_type": "code",
   "execution_count": 95,
   "id": "981cfabf-4fc4-42c9-8ce5-16b9139024ed",
   "metadata": {},
   "outputs": [],
   "source": [
    "test =x[1].clone()"
   ]
  },
  {
   "cell_type": "code",
   "execution_count": 97,
   "id": "85d2d89c-4425-4543-86ac-dcbbf32641d1",
   "metadata": {},
   "outputs": [
    {
     "data": {
      "text/plain": [
       "torch.Size([5, 128])"
      ]
     },
     "execution_count": 97,
     "metadata": {},
     "output_type": "execute_result"
    }
   ],
   "source": [
    "mask = test[:,:,2]==1\n",
    "mask.shape"
   ]
  },
  {
   "cell_type": "code",
   "execution_count": 103,
   "id": "3a9655d4-73fa-4a24-b01b-a4accb862d33",
   "metadata": {},
   "outputs": [],
   "source": [
    "mask2= mask.unsqueeze(-1)"
   ]
  },
  {
   "cell_type": "code",
   "execution_count": 104,
   "id": "722c6f6e-b673-459c-8dd2-25fd9e0c0aee",
   "metadata": {},
   "outputs": [
    {
     "data": {
      "text/plain": [
       "torch.Size([5, 128, 1])"
      ]
     },
     "execution_count": 104,
     "metadata": {},
     "output_type": "execute_result"
    }
   ],
   "source": [
    "mask2.shape"
   ]
  },
  {
   "cell_type": "code",
   "execution_count": 106,
   "id": "34994c56-cd23-4f21-92d6-2228172dafc7",
   "metadata": {},
   "outputs": [
    {
     "data": {
      "text/plain": [
       "torch.Size([5, 128, 3])"
      ]
     },
     "execution_count": 106,
     "metadata": {},
     "output_type": "execute_result"
    }
   ],
   "source": [
    "mask3 = mask2.expand(test.size())\n",
    "mask3.shape"
   ]
  },
  {
   "cell_type": "code",
   "execution_count": 113,
   "id": "254db267-6636-4138-8186-c72a2c13ed9e",
   "metadata": {},
   "outputs": [
    {
     "data": {
      "text/plain": [
       "torch.Size([195])"
      ]
     },
     "execution_count": 113,
     "metadata": {},
     "output_type": "execute_result"
    }
   ],
   "source": [
    "test[mask3].shape"
   ]
  },
  {
   "cell_type": "code",
   "execution_count": 115,
   "id": "e45e4fa8-f3b8-45d8-b29c-ee0709b1ef26",
   "metadata": {},
   "outputs": [
    {
     "data": {
      "text/plain": [
       "tensor([ 7, 14, 19, 15, 10])"
      ]
     },
     "execution_count": 115,
     "metadata": {},
     "output_type": "execute_result"
    }
   ],
   "source": [
    "mask.sum(axis=1)"
   ]
  },
  {
   "cell_type": "code",
   "execution_count": 126,
   "id": "1a92c20a-2082-4702-83b2-951fe1faa142",
   "metadata": {
    "scrolled": true
   },
   "outputs": [
    {
     "data": {
      "text/plain": [
       "tensor([[    0,     0,     0],\n",
       "        [    0,     0,     0],\n",
       "        [    0,     0,     0],\n",
       "        [    0,     0,     0],\n",
       "        [    0,     0,     0],\n",
       "        [ 2833,     1,     1],\n",
       "        [22623,     1,     1],\n",
       "        [25537,     1,     1],\n",
       "        [ 1996,     1,     1],\n",
       "        [ 2103,     1,     1],\n",
       "        [ 1012,     1,     1],\n",
       "        [  102,     1,     1],\n",
       "        [    0,     0,     0],\n",
       "        [    0,     0,     0],\n",
       "        [    0,     0,     0],\n",
       "        [    0,     0,     0],\n",
       "        [    0,     0,     0],\n",
       "        [    0,     0,     0],\n",
       "        [    0,     0,     0],\n",
       "        [    0,     0,     0],\n",
       "        [    0,     0,     0],\n",
       "        [    0,     0,     0],\n",
       "        [    0,     0,     0],\n",
       "        [    0,     0,     0],\n",
       "        [    0,     0,     0],\n",
       "        [    0,     0,     0],\n",
       "        [    0,     0,     0],\n",
       "        [    0,     0,     0],\n",
       "        [    0,     0,     0],\n",
       "        [    0,     0,     0],\n",
       "        [    0,     0,     0],\n",
       "        [    0,     0,     0],\n",
       "        [    0,     0,     0],\n",
       "        [    0,     0,     0],\n",
       "        [    0,     0,     0],\n",
       "        [    0,     0,     0],\n",
       "        [    0,     0,     0],\n",
       "        [    0,     0,     0],\n",
       "        [    0,     0,     0],\n",
       "        [    0,     0,     0],\n",
       "        [    0,     0,     0],\n",
       "        [    0,     0,     0],\n",
       "        [    0,     0,     0],\n",
       "        [    0,     0,     0],\n",
       "        [    0,     0,     0],\n",
       "        [    0,     0,     0],\n",
       "        [    0,     0,     0],\n",
       "        [    0,     0,     0],\n",
       "        [    0,     0,     0],\n",
       "        [    0,     0,     0],\n",
       "        [    0,     0,     0],\n",
       "        [    0,     0,     0],\n",
       "        [    0,     0,     0],\n",
       "        [    0,     0,     0],\n",
       "        [    0,     0,     0],\n",
       "        [    0,     0,     0],\n",
       "        [    0,     0,     0],\n",
       "        [    0,     0,     0],\n",
       "        [    0,     0,     0],\n",
       "        [    0,     0,     0],\n",
       "        [    0,     0,     0],\n",
       "        [    0,     0,     0],\n",
       "        [    0,     0,     0],\n",
       "        [    0,     0,     0],\n",
       "        [    0,     0,     0],\n",
       "        [    0,     0,     0],\n",
       "        [    0,     0,     0],\n",
       "        [    0,     0,     0],\n",
       "        [    0,     0,     0],\n",
       "        [    0,     0,     0],\n",
       "        [    0,     0,     0],\n",
       "        [    0,     0,     0],\n",
       "        [    0,     0,     0],\n",
       "        [    0,     0,     0],\n",
       "        [    0,     0,     0],\n",
       "        [    0,     0,     0],\n",
       "        [    0,     0,     0],\n",
       "        [    0,     0,     0],\n",
       "        [    0,     0,     0],\n",
       "        [    0,     0,     0],\n",
       "        [    0,     0,     0],\n",
       "        [    0,     0,     0],\n",
       "        [    0,     0,     0],\n",
       "        [    0,     0,     0],\n",
       "        [    0,     0,     0],\n",
       "        [    0,     0,     0],\n",
       "        [    0,     0,     0],\n",
       "        [    0,     0,     0],\n",
       "        [    0,     0,     0],\n",
       "        [    0,     0,     0],\n",
       "        [    0,     0,     0],\n",
       "        [    0,     0,     0],\n",
       "        [    0,     0,     0],\n",
       "        [    0,     0,     0],\n",
       "        [    0,     0,     0],\n",
       "        [    0,     0,     0],\n",
       "        [    0,     0,     0],\n",
       "        [    0,     0,     0],\n",
       "        [    0,     0,     0],\n",
       "        [    0,     0,     0],\n",
       "        [    0,     0,     0],\n",
       "        [    0,     0,     0],\n",
       "        [    0,     0,     0],\n",
       "        [    0,     0,     0],\n",
       "        [    0,     0,     0],\n",
       "        [    0,     0,     0],\n",
       "        [    0,     0,     0],\n",
       "        [    0,     0,     0],\n",
       "        [    0,     0,     0],\n",
       "        [    0,     0,     0],\n",
       "        [    0,     0,     0],\n",
       "        [    0,     0,     0],\n",
       "        [    0,     0,     0],\n",
       "        [    0,     0,     0],\n",
       "        [    0,     0,     0],\n",
       "        [    0,     0,     0],\n",
       "        [    0,     0,     0],\n",
       "        [    0,     0,     0],\n",
       "        [    0,     0,     0],\n",
       "        [    0,     0,     0],\n",
       "        [    0,     0,     0],\n",
       "        [    0,     0,     0],\n",
       "        [    0,     0,     0],\n",
       "        [    0,     0,     0],\n",
       "        [    0,     0,     0],\n",
       "        [    0,     0,     0],\n",
       "        [    0,     0,     0],\n",
       "        [    0,     0,     0]])"
      ]
     },
     "execution_count": 126,
     "metadata": {},
     "output_type": "execute_result"
    }
   ],
   "source": [
    "result = (test*mask3)\n",
    "result[0]"
   ]
  },
  {
   "cell_type": "code",
   "execution_count": 141,
   "id": "9035122b-38bc-4e76-a821-a46b129f0c76",
   "metadata": {},
   "outputs": [
    {
     "data": {
      "text/plain": [
       "tensor([5, 5, 5])"
      ]
     },
     "execution_count": 141,
     "metadata": {},
     "output_type": "execute_result"
    }
   ],
   "source": [
    "mask_result  = (result!=0).int()\n",
    "shifts = torch.argmax(mask_result[0], 0)"
   ]
  },
  {
   "cell_type": "code",
   "execution_count": 135,
   "id": "c9546323-69ab-4aa2-a807-28df92d20272",
   "metadata": {},
   "outputs": [
    {
     "data": {
      "text/plain": [
       "tensor([[0, 0, 0],\n",
       "        [0, 0, 0],\n",
       "        [0, 0, 0],\n",
       "        [0, 0, 0],\n",
       "        [0, 0, 0],\n",
       "        [1, 1, 1],\n",
       "        [1, 1, 1],\n",
       "        [1, 1, 1],\n",
       "        [1, 1, 1],\n",
       "        [1, 1, 1],\n",
       "        [1, 1, 1],\n",
       "        [1, 1, 1],\n",
       "        [0, 0, 0],\n",
       "        [0, 0, 0],\n",
       "        [0, 0, 0],\n",
       "        [0, 0, 0],\n",
       "        [0, 0, 0],\n",
       "        [0, 0, 0],\n",
       "        [0, 0, 0],\n",
       "        [0, 0, 0],\n",
       "        [0, 0, 0],\n",
       "        [0, 0, 0],\n",
       "        [0, 0, 0],\n",
       "        [0, 0, 0],\n",
       "        [0, 0, 0],\n",
       "        [0, 0, 0],\n",
       "        [0, 0, 0],\n",
       "        [0, 0, 0],\n",
       "        [0, 0, 0],\n",
       "        [0, 0, 0],\n",
       "        [0, 0, 0],\n",
       "        [0, 0, 0],\n",
       "        [0, 0, 0],\n",
       "        [0, 0, 0],\n",
       "        [0, 0, 0],\n",
       "        [0, 0, 0],\n",
       "        [0, 0, 0],\n",
       "        [0, 0, 0],\n",
       "        [0, 0, 0],\n",
       "        [0, 0, 0],\n",
       "        [0, 0, 0],\n",
       "        [0, 0, 0],\n",
       "        [0, 0, 0],\n",
       "        [0, 0, 0],\n",
       "        [0, 0, 0],\n",
       "        [0, 0, 0],\n",
       "        [0, 0, 0],\n",
       "        [0, 0, 0],\n",
       "        [0, 0, 0],\n",
       "        [0, 0, 0],\n",
       "        [0, 0, 0],\n",
       "        [0, 0, 0],\n",
       "        [0, 0, 0],\n",
       "        [0, 0, 0],\n",
       "        [0, 0, 0],\n",
       "        [0, 0, 0],\n",
       "        [0, 0, 0],\n",
       "        [0, 0, 0],\n",
       "        [0, 0, 0],\n",
       "        [0, 0, 0],\n",
       "        [0, 0, 0],\n",
       "        [0, 0, 0],\n",
       "        [0, 0, 0],\n",
       "        [0, 0, 0],\n",
       "        [0, 0, 0],\n",
       "        [0, 0, 0],\n",
       "        [0, 0, 0],\n",
       "        [0, 0, 0],\n",
       "        [0, 0, 0],\n",
       "        [0, 0, 0],\n",
       "        [0, 0, 0],\n",
       "        [0, 0, 0],\n",
       "        [0, 0, 0],\n",
       "        [0, 0, 0],\n",
       "        [0, 0, 0],\n",
       "        [0, 0, 0],\n",
       "        [0, 0, 0],\n",
       "        [0, 0, 0],\n",
       "        [0, 0, 0],\n",
       "        [0, 0, 0],\n",
       "        [0, 0, 0],\n",
       "        [0, 0, 0],\n",
       "        [0, 0, 0],\n",
       "        [0, 0, 0],\n",
       "        [0, 0, 0],\n",
       "        [0, 0, 0],\n",
       "        [0, 0, 0],\n",
       "        [0, 0, 0],\n",
       "        [0, 0, 0],\n",
       "        [0, 0, 0],\n",
       "        [0, 0, 0],\n",
       "        [0, 0, 0],\n",
       "        [0, 0, 0],\n",
       "        [0, 0, 0],\n",
       "        [0, 0, 0],\n",
       "        [0, 0, 0],\n",
       "        [0, 0, 0],\n",
       "        [0, 0, 0],\n",
       "        [0, 0, 0],\n",
       "        [0, 0, 0],\n",
       "        [0, 0, 0],\n",
       "        [0, 0, 0],\n",
       "        [0, 0, 0],\n",
       "        [0, 0, 0],\n",
       "        [0, 0, 0],\n",
       "        [0, 0, 0],\n",
       "        [0, 0, 0],\n",
       "        [0, 0, 0],\n",
       "        [0, 0, 0],\n",
       "        [0, 0, 0],\n",
       "        [0, 0, 0],\n",
       "        [0, 0, 0],\n",
       "        [0, 0, 0],\n",
       "        [0, 0, 0],\n",
       "        [0, 0, 0],\n",
       "        [0, 0, 0],\n",
       "        [0, 0, 0],\n",
       "        [0, 0, 0],\n",
       "        [0, 0, 0],\n",
       "        [0, 0, 0],\n",
       "        [0, 0, 0],\n",
       "        [0, 0, 0],\n",
       "        [0, 0, 0],\n",
       "        [0, 0, 0],\n",
       "        [0, 0, 0],\n",
       "        [0, 0, 0],\n",
       "        [0, 0, 0],\n",
       "        [0, 0, 0]], dtype=torch.int32)"
      ]
     },
     "execution_count": 135,
     "metadata": {},
     "output_type": "execute_result"
    }
   ],
   "source": [
    "mask_result[0]"
   ]
  },
  {
   "cell_type": "code",
   "execution_count": 2,
   "id": "b2c8bf3e-3fd6-43fc-8019-f1de003f46c7",
   "metadata": {},
   "outputs": [],
   "source": [
    "## change chexpert"
   ]
  },
  {
   "cell_type": "code",
   "execution_count": 196,
   "id": "7205f860-5535-4b2a-bcfa-0459929a8f36",
   "metadata": {},
   "outputs": [],
   "source": [
    "chexdf20k = pd.read_csv('/scratch/paa9751/mlhc-project/resized_data/chexpert/full_data_chexpert_newdata.csv')"
   ]
  },
  {
   "cell_type": "code",
   "execution_count": 197,
   "id": "f36c0f7f-3ed9-464c-8d53-a70fef2d5494",
   "metadata": {},
   "outputs": [],
   "source": [
    "new_paths=[]\n",
    "for i,row in chexdf20k.iterrows():\n",
    "    img_path = '/'+row['Path']\n",
    "    path_name = \"\".join(row['Path'].split('/'))[:-4]\n",
    "    dest_path = os.path.join('/scratch/paa9751/mlhc-project/resized_data/chexpert', \"imgs/\"+path_name+\".npy\")\n",
    "    new_paths.append(dest_path)\n",
    "chexdf20k['new_path'] = new_paths"
   ]
  },
  {
   "cell_type": "code",
   "execution_count": 198,
   "id": "f7c7ff61-7212-43a7-a483-fac311d7620c",
   "metadata": {},
   "outputs": [],
   "source": [
    "chexdf20k['dataset_idx']=1\n",
    "chexdf20k['true_group_idx'] = 1 - chexdf20k.Cardiomegaly\n",
    "chexdf20k=chexdf20k[['subject_id','Cardiomegaly','new_path','split','dataset_idx','true_group_idx']]\n",
    "chexdf20k['old_split'] = chexdf20k.split\n",
    "chexdf20k['split'] = ['none']*chexdf20k.shape[0]"
   ]
  },
  {
   "cell_type": "code",
   "execution_count": 199,
   "id": "15238e07-68d9-4964-b9b5-54dc14fea198",
   "metadata": {},
   "outputs": [],
   "source": [
    "def get_new_split(data_df):\n",
    "    newidx={}\n",
    "    for split in ['train','val']:\n",
    "        split_df = data_df[data_df.old_split==split]\n",
    "        df1 = split_df[split_df['Cardiomegaly'] == 1]\n",
    "        df0 = split_df[split_df['Cardiomegaly'] == 0]\n",
    "        p,n=0.5,0.5\n",
    "        # if split=='test':\n",
    "        #     split_df = data_df[data_df.sp=='none']\n",
    "        #     p=0.9 * 0.5\n",
    "        #     n=0.1 * 0.5\n",
    "        n1,n0 = int(p* df1.shape[0]), int(n * df0.shape[0])  # 90% of K\n",
    "        n1_,n0_ = random.sample(list(df1.index),n1), random.sample(list(df0.index),n0)\n",
    "        newidx[split]=n1_+n0_\n",
    "    return newidx\n",
    "\n",
    "newidx=get_new_split(chexdf20k)\n",
    "chexdf20k.loc[newidx['train'],'split'] = 'train'\n",
    "chexdf20k.loc[newidx['val'],'split'] = 'val'"
   ]
  },
  {
   "cell_type": "code",
   "execution_count": 200,
   "id": "b30233b1-1fc8-4dd6-991d-d21ac0576d69",
   "metadata": {},
   "outputs": [],
   "source": [
    "split_df = chexdf20k[chexdf20k.split=='none']\n",
    "df1 = split_df[split_df['Cardiomegaly'] == 1]\n",
    "df0 = split_df[split_df['Cardiomegaly'] == 0]\n",
    "p,n=0.5,0.5\n",
    "n1,n0 = 95, 850  # 90% of K\n",
    "n1_,n0_ = random.sample(list(df1.index),n1), random.sample(list(df0.index),n0)\n",
    "testidx=n1_+n0_\n",
    "chexdf20k.loc[testidx,'split'] = 'test'"
   ]
  },
  {
   "cell_type": "code",
   "execution_count": 201,
   "id": "2e3763dc-9dac-4a80-886a-258466063fa3",
   "metadata": {},
   "outputs": [
    {
     "data": {
      "text/plain": [
       "split\n",
       "none     7555\n",
       "train    7000\n",
       "val      1500\n",
       "test      945\n",
       "Name: count, dtype: int64"
      ]
     },
     "execution_count": 201,
     "metadata": {},
     "output_type": "execute_result"
    }
   ],
   "source": [
    "chexdf20k.split.value_counts()"
   ]
  },
  {
   "cell_type": "code",
   "execution_count": 202,
   "id": "8ecc3fe0-cbab-4a70-8556-8ed1b7cbef5c",
   "metadata": {},
   "outputs": [
    {
     "data": {
      "text/plain": [
       "(17000, 7)"
      ]
     },
     "execution_count": 202,
     "metadata": {},
     "output_type": "execute_result"
    }
   ],
   "source": [
    "chexdf20k.shape"
   ]
  },
  {
   "cell_type": "code",
   "execution_count": 203,
   "id": "62d1850f-584e-4a5f-90f5-304fecb751ca",
   "metadata": {},
   "outputs": [],
   "source": [
    "chexdf20k.to_csv('/scratch/paa9751/mlhc-project/resized_data/chexpert/full_data_chexpert_full_new.csv')"
   ]
  },
  {
   "cell_type": "code",
   "execution_count": 2,
   "id": "29f69ab4-5239-4c5d-9be8-1af0f6661fad",
   "metadata": {},
   "outputs": [],
   "source": [
    "chexdf10k= pd.read_csv('/scratch/paa9751/mlhc-project/resized_data/chexpert/full_data_chexpert_full.csv')"
   ]
  },
  {
   "cell_type": "code",
   "execution_count": 4,
   "id": "4d251e88-7cf6-4d22-baf4-f78cbb2efa98",
   "metadata": {},
   "outputs": [
    {
     "data": {
      "text/plain": [
       "0       CheXpert-v1.0/train/patient17799/study2/view2_...\n",
       "1       CheXpert-v1.0/train/patient34816/study6/view1_...\n",
       "2       CheXpert-v1.0/train/patient34722/study10/view1...\n",
       "3       CheXpert-v1.0/train/patient51325/study1/view1_...\n",
       "4       CheXpert-v1.0/train/patient40103/study7/view1_...\n",
       "                              ...                        \n",
       "9995    CheXpert-v1.0/train/patient27549/study18/view1...\n",
       "9996    CheXpert-v1.0/train/patient34539/study1/view2_...\n",
       "9997    CheXpert-v1.0/train/patient34141/study16/view3...\n",
       "9998    CheXpert-v1.0/train/patient30393/study6/view2_...\n",
       "9999    CheXpert-v1.0/train/patient05112/study1/view2_...\n",
       "Name: old_path, Length: 10000, dtype: object"
      ]
     },
     "execution_count": 4,
     "metadata": {},
     "output_type": "execute_result"
    }
   ],
   "source": [
    "chexdf10k.old_path"
   ]
  },
  {
   "cell_type": "code",
   "execution_count": 184,
   "id": "8617dd6d-db61-44b4-9e94-e526c4564d4f",
   "metadata": {},
   "outputs": [
    {
     "data": {
      "text/plain": [
       "Cardiomegaly\n",
       "0.0    1350\n",
       "1.0     150\n",
       "Name: count, dtype: int64"
      ]
     },
     "execution_count": 184,
     "metadata": {},
     "output_type": "execute_result"
    }
   ],
   "source": [
    "chexdf10k[chexdf10k.split=='test'].Cardiomegaly.value_counts()"
   ]
  },
  {
   "cell_type": "code",
   "execution_count": 97,
   "id": "232159ca-c88b-41c0-9e35-b29cfbb08c79",
   "metadata": {},
   "outputs": [
    {
     "data": {
      "text/plain": [
       "Cardiomegaly\n",
       "1.0    6300\n",
       "0.0     700\n",
       "Name: count, dtype: int64"
      ]
     },
     "execution_count": 97,
     "metadata": {},
     "output_type": "execute_result"
    }
   ],
   "source": [
    "chexdf10k[chexdf10k.split=='train'].Cardiomegaly.value_counts()"
   ]
  },
  {
   "cell_type": "code",
   "execution_count": 26,
   "id": "95685910-3740-4dcb-98c1-1357eb70ece6",
   "metadata": {},
   "outputs": [
    {
     "data": {
      "text/html": [
       "<div>\n",
       "<style scoped>\n",
       "    .dataframe tbody tr th:only-of-type {\n",
       "        vertical-align: middle;\n",
       "    }\n",
       "\n",
       "    .dataframe tbody tr th {\n",
       "        vertical-align: top;\n",
       "    }\n",
       "\n",
       "    .dataframe thead th {\n",
       "        text-align: right;\n",
       "    }\n",
       "</style>\n",
       "<table border=\"1\" class=\"dataframe\">\n",
       "  <thead>\n",
       "    <tr style=\"text-align: right;\">\n",
       "      <th></th>\n",
       "      <th>Unnamed: 0.1</th>\n",
       "      <th>Unnamed: 0</th>\n",
       "      <th>subject_id</th>\n",
       "      <th>Cardiomegaly</th>\n",
       "      <th>old_path</th>\n",
       "      <th>new_path</th>\n",
       "      <th>split</th>\n",
       "      <th>dataset_idx</th>\n",
       "      <th>true_group</th>\n",
       "      <th>true_group_idx</th>\n",
       "      <th>...</th>\n",
       "      <th>sns_group_5</th>\n",
       "      <th>max_accuracy_model_predictions</th>\n",
       "      <th>min_loss_model_predictions</th>\n",
       "      <th>predprob_new</th>\n",
       "      <th>sns_y_2</th>\n",
       "      <th>sns_y_3</th>\n",
       "      <th>sns_y_4</th>\n",
       "      <th>sns_y_6</th>\n",
       "      <th>sns_y_8</th>\n",
       "      <th>sns_y_16</th>\n",
       "    </tr>\n",
       "  </thead>\n",
       "  <tbody>\n",
       "    <tr>\n",
       "      <th>0</th>\n",
       "      <td>0</td>\n",
       "      <td>0</td>\n",
       "      <td>patient17799</td>\n",
       "      <td>1.0</td>\n",
       "      <td>CheXpert-v1.0/train/patient17799/study2/view2_...</td>\n",
       "      <td>/scratch/paa9751/mlhc-project/resized_data/che...</td>\n",
       "      <td>train</td>\n",
       "      <td>1</td>\n",
       "      <td>11</td>\n",
       "      <td>0</td>\n",
       "      <td>...</td>\n",
       "      <td>0</td>\n",
       "      <td>1.940106</td>\n",
       "      <td>1.940106</td>\n",
       "      <td>0.874364</td>\n",
       "      <td>0</td>\n",
       "      <td>0</td>\n",
       "      <td>0</td>\n",
       "      <td>0</td>\n",
       "      <td>0</td>\n",
       "      <td>0</td>\n",
       "    </tr>\n",
       "    <tr>\n",
       "      <th>1</th>\n",
       "      <td>1</td>\n",
       "      <td>1</td>\n",
       "      <td>patient34816</td>\n",
       "      <td>1.0</td>\n",
       "      <td>CheXpert-v1.0/train/patient34816/study6/view1_...</td>\n",
       "      <td>/scratch/paa9751/mlhc-project/resized_data/che...</td>\n",
       "      <td>train</td>\n",
       "      <td>1</td>\n",
       "      <td>11</td>\n",
       "      <td>0</td>\n",
       "      <td>...</td>\n",
       "      <td>2</td>\n",
       "      <td>3.293948</td>\n",
       "      <td>3.293948</td>\n",
       "      <td>0.964221</td>\n",
       "      <td>0</td>\n",
       "      <td>1</td>\n",
       "      <td>1</td>\n",
       "      <td>1</td>\n",
       "      <td>1</td>\n",
       "      <td>1</td>\n",
       "    </tr>\n",
       "    <tr>\n",
       "      <th>2</th>\n",
       "      <td>2</td>\n",
       "      <td>2</td>\n",
       "      <td>patient34722</td>\n",
       "      <td>0.0</td>\n",
       "      <td>CheXpert-v1.0/train/patient34722/study10/view1...</td>\n",
       "      <td>/scratch/paa9751/mlhc-project/resized_data/che...</td>\n",
       "      <td>train</td>\n",
       "      <td>1</td>\n",
       "      <td>1</td>\n",
       "      <td>1</td>\n",
       "      <td>...</td>\n",
       "      <td>4</td>\n",
       "      <td>5.707192</td>\n",
       "      <td>5.707192</td>\n",
       "      <td>0.996689</td>\n",
       "      <td>1</td>\n",
       "      <td>2</td>\n",
       "      <td>2</td>\n",
       "      <td>2</td>\n",
       "      <td>2</td>\n",
       "      <td>2</td>\n",
       "    </tr>\n",
       "    <tr>\n",
       "      <th>3</th>\n",
       "      <td>3</td>\n",
       "      <td>3</td>\n",
       "      <td>patient51325</td>\n",
       "      <td>1.0</td>\n",
       "      <td>CheXpert-v1.0/train/patient51325/study1/view1_...</td>\n",
       "      <td>/scratch/paa9751/mlhc-project/resized_data/che...</td>\n",
       "      <td>train</td>\n",
       "      <td>1</td>\n",
       "      <td>11</td>\n",
       "      <td>0</td>\n",
       "      <td>...</td>\n",
       "      <td>2</td>\n",
       "      <td>0.869545</td>\n",
       "      <td>0.869545</td>\n",
       "      <td>0.704651</td>\n",
       "      <td>2</td>\n",
       "      <td>0</td>\n",
       "      <td>3</td>\n",
       "      <td>3</td>\n",
       "      <td>3</td>\n",
       "      <td>3</td>\n",
       "    </tr>\n",
       "    <tr>\n",
       "      <th>4</th>\n",
       "      <td>4</td>\n",
       "      <td>4</td>\n",
       "      <td>patient40103</td>\n",
       "      <td>1.0</td>\n",
       "      <td>CheXpert-v1.0/train/patient40103/study7/view1_...</td>\n",
       "      <td>/scratch/paa9751/mlhc-project/resized_data/che...</td>\n",
       "      <td>train</td>\n",
       "      <td>1</td>\n",
       "      <td>11</td>\n",
       "      <td>0</td>\n",
       "      <td>...</td>\n",
       "      <td>2</td>\n",
       "      <td>1.718483</td>\n",
       "      <td>1.718483</td>\n",
       "      <td>0.847933</td>\n",
       "      <td>0</td>\n",
       "      <td>0</td>\n",
       "      <td>0</td>\n",
       "      <td>0</td>\n",
       "      <td>0</td>\n",
       "      <td>4</td>\n",
       "    </tr>\n",
       "  </tbody>\n",
       "</table>\n",
       "<p>5 rows × 33 columns</p>\n",
       "</div>"
      ],
      "text/plain": [
       "   Unnamed: 0.1  Unnamed: 0    subject_id  Cardiomegaly  \\\n",
       "0             0           0  patient17799           1.0   \n",
       "1             1           1  patient34816           1.0   \n",
       "2             2           2  patient34722           0.0   \n",
       "3             3           3  patient51325           1.0   \n",
       "4             4           4  patient40103           1.0   \n",
       "\n",
       "                                            old_path  \\\n",
       "0  CheXpert-v1.0/train/patient17799/study2/view2_...   \n",
       "1  CheXpert-v1.0/train/patient34816/study6/view1_...   \n",
       "2  CheXpert-v1.0/train/patient34722/study10/view1...   \n",
       "3  CheXpert-v1.0/train/patient51325/study1/view1_...   \n",
       "4  CheXpert-v1.0/train/patient40103/study7/view1_...   \n",
       "\n",
       "                                            new_path  split  dataset_idx  \\\n",
       "0  /scratch/paa9751/mlhc-project/resized_data/che...  train            1   \n",
       "1  /scratch/paa9751/mlhc-project/resized_data/che...  train            1   \n",
       "2  /scratch/paa9751/mlhc-project/resized_data/che...  train            1   \n",
       "3  /scratch/paa9751/mlhc-project/resized_data/che...  train            1   \n",
       "4  /scratch/paa9751/mlhc-project/resized_data/che...  train            1   \n",
       "\n",
       "   true_group  true_group_idx  ...  sns_group_5  \\\n",
       "0          11               0  ...            0   \n",
       "1          11               0  ...            2   \n",
       "2           1               1  ...            4   \n",
       "3          11               0  ...            2   \n",
       "4          11               0  ...            2   \n",
       "\n",
       "   max_accuracy_model_predictions  min_loss_model_predictions  predprob_new  \\\n",
       "0                        1.940106                    1.940106      0.874364   \n",
       "1                        3.293948                    3.293948      0.964221   \n",
       "2                        5.707192                    5.707192      0.996689   \n",
       "3                        0.869545                    0.869545      0.704651   \n",
       "4                        1.718483                    1.718483      0.847933   \n",
       "\n",
       "   sns_y_2  sns_y_3  sns_y_4  sns_y_6  sns_y_8  sns_y_16  \n",
       "0        0        0        0        0        0         0  \n",
       "1        0        1        1        1        1         1  \n",
       "2        1        2        2        2        2         2  \n",
       "3        2        0        3        3        3         3  \n",
       "4        0        0        0        0        0         4  \n",
       "\n",
       "[5 rows x 33 columns]"
      ]
     },
     "execution_count": 26,
     "metadata": {},
     "output_type": "execute_result"
    }
   ],
   "source": [
    "chexdf10k.head()"
   ]
  },
  {
   "cell_type": "code",
   "execution_count": 3,
   "id": "d6015860-8fc6-4fc7-a07b-be7d84649f6d",
   "metadata": {},
   "outputs": [],
   "source": [
    "boolist=pd.Series([os.path.isfile(p) for p in chexdf10k.new_path])"
   ]
  },
  {
   "cell_type": "code",
   "execution_count": 4,
   "id": "7d9de46e-ae3d-42ef-a0bb-b84b99e2ca4d",
   "metadata": {},
   "outputs": [
    {
     "data": {
      "text/plain": [
       "True    10000\n",
       "Name: count, dtype: int64"
      ]
     },
     "execution_count": 4,
     "metadata": {},
     "output_type": "execute_result"
    }
   ],
   "source": [
    "boolist.value_counts()"
   ]
  },
  {
   "cell_type": "code",
   "execution_count": 6,
   "id": "fb4b103a-3411-4701-b8c2-5a2811ef9bd0",
   "metadata": {},
   "outputs": [],
   "source": [
    "chex = pd.read_csv('/scratch/paa9751/mlhc-project/resized_data/chexpert/full_data_chexpert_full.csv').iloc[:,1:]\n",
    "mimic = pd.read_csv('/scratch/paa9751/mlhc-project/resized_data/mimic/full_data_mimic_full.csv').iloc[:,1:]\n",
    "df=pd.concat([chex,mimic])"
   ]
  },
  {
   "cell_type": "code",
   "execution_count": 10,
   "id": "5f8b9818-6a27-4cba-9dd1-e4d558ad7de0",
   "metadata": {},
   "outputs": [],
   "source": [
    "df['weight']=1/df.observed_prob"
   ]
  },
  {
   "cell_type": "code",
   "execution_count": 15,
   "id": "f9cda7bb-e8cc-48f3-979d-54faa33d473c",
   "metadata": {},
   "outputs": [],
   "source": [
    "df['clipped_weight'] = [20 if w>20 else w for w in df.weight]"
   ]
  },
  {
   "cell_type": "code",
   "execution_count": 17,
   "id": "85ed2606-0dd6-4f83-af96-87b43b5b0690",
   "metadata": {},
   "outputs": [
    {
     "data": {
      "text/plain": [
       "0        1.143689\n",
       "1        1.037107\n",
       "2       20.000000\n",
       "3        1.419142\n",
       "4        1.179338\n",
       "          ...    \n",
       "9995    14.624398\n",
       "9996     1.259605\n",
       "9997     4.548131\n",
       "9998     1.472992\n",
       "9999     2.612550\n",
       "Name: clipped_weight, Length: 20000, dtype: float64"
      ]
     },
     "execution_count": 17,
     "metadata": {},
     "output_type": "execute_result"
    }
   ],
   "source": [
    "df.clipped_weight"
   ]
  },
  {
   "cell_type": "code",
   "execution_count": 21,
   "id": "87c8ace7-1202-4660-bcab-6c34fcc55db6",
   "metadata": {},
   "outputs": [],
   "source": [
    "df[df.dataset_idx==1].to_csv('/scratch/paa9751/mlhc-project/resized_data/chexpert/full_data_chexpert_full.csv')\n",
    "df[df.dataset_idx==0].to_csv('/scratch/paa9751/mlhc-project/resized_data/mimic/full_data_mimic_full.csv')"
   ]
  },
  {
   "cell_type": "code",
   "execution_count": null,
   "id": "a0bdb150-b20c-4926-8ca5-76afface2a63",
   "metadata": {},
   "outputs": [],
   "source": []
  }
 ],
 "metadata": {
  "kernelspec": {
   "display_name": "torchgeo",
   "language": "python",
   "name": "pytorch-example"
  },
  "language_info": {
   "codemirror_mode": {
    "name": "ipython",
    "version": 3
   },
   "file_extension": ".py",
   "mimetype": "text/x-python",
   "name": "python",
   "nbconvert_exporter": "python",
   "pygments_lexer": "ipython3",
   "version": "3.11.5"
  }
 },
 "nbformat": 4,
 "nbformat_minor": 5
}
