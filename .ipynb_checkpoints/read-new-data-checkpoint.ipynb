{
 "cells": [
  {
   "cell_type": "code",
   "execution_count": 1,
   "id": "1775fc8f-7931-4410-a1e9-ea2d8a7b2389",
   "metadata": {},
   "outputs": [],
   "source": [
    "import pandas as pd\n",
    "import numpy as np\n",
    "import random \n",
    "import torch \n",
    "import os \n",
    "from PIL import Image\n",
    "from torch.utils.data import Dataset\n",
    "from torch.utils.data import DataLoader\n",
    "import torchvision.transforms as transforms\n",
    "from torchvision import models\n",
    "from torch import nn\n",
    "from scipy import stats\n",
    "import matplotlib.pyplot as plt\n",
    "from matplotlib import image\n",
    "import shutil\n",
    "from sklearn.mixture import GaussianMixture\n",
    "from sklearn.tree import DecisionTreeClassifier\n",
    "from sklearn.metrics import confusion_matrix, balanced_accuracy_score"
   ]
  },
  {
   "cell_type": "code",
   "execution_count": 2,
   "id": "d6aa8f7c-b474-4aca-a022-eac862eae0ff",
   "metadata": {},
   "outputs": [],
   "source": [
    "from BalancingGroups.datasets import * \n",
    "import utils_glue"
   ]
  },
  {
   "cell_type": "code",
   "execution_count": 26,
   "id": "463f4463-2346-471c-923d-e2b9700dff7c",
   "metadata": {},
   "outputs": [],
   "source": [
    "datapath = '/scratch/paa9751/mlhc-project/new_data'\n",
    "dataloaders = get_loaders(datapath, \"multinli\", 5, method=\"erm\", duplicates=None)"
   ]
  },
  {
   "cell_type": "code",
   "execution_count": 27,
   "id": "a991956e-a0ce-4ee1-8375-df0caf5835a8",
   "metadata": {},
   "outputs": [
    {
     "name": "stdout",
     "output_type": "stream",
     "text": [
      "shapes\n",
      "torch.Size([5]) torch.Size([5, 128, 3]) torch.Size([5]) torch.Size([5])\n",
      "************************************************\n",
      "tensor([137173,  49457, 194557, 146392, 144896])\n",
      "************************************************\n",
      "************************************************\n",
      "tensor([2, 1, 2, 0, 0])\n",
      "************************************************\n",
      "tensor([0, 0, 0, 0, 0])\n"
     ]
    }
   ],
   "source": [
    "for x in dataloaders['tr']: #i,x,y,g \n",
    "    print('shapes')\n",
    "    print(x[0].shape,x[1].shape,x[2].shape,x[3].shape)\n",
    "    print('************************************************')\n",
    "    print(x[0])\n",
    "    print('************************************************')\n",
    "    #print(x[1][x[1][2]==1])\n",
    "    print('************************************************')\n",
    "    print(x[2])\n",
    "    print('************************************************')\n",
    "    print(x[3])\n",
    "    break "
   ]
  },
  {
   "cell_type": "code",
   "execution_count": 149,
   "id": "80efca3f-ffba-49c2-a68b-c33d0d8f1376",
   "metadata": {},
   "outputs": [],
   "source": [
    "import torch.nn.functional as F "
   ]
  },
  {
   "cell_type": "code",
   "execution_count": 183,
   "id": "ebdb9741-2e6e-43b9-8bff-f32c524d8e21",
   "metadata": {},
   "outputs": [
    {
     "name": "stdout",
     "output_type": "stream",
     "text": [
      "torch.Size([1, 128, 3])\n",
      "torch.Size([2, 128, 3])\n",
      "torch.Size([3, 128, 3])\n",
      "torch.Size([4, 128, 3])\n",
      "torch.Size([5, 128, 3])\n"
     ]
    }
   ],
   "source": [
    "test=x[1]\n",
    "mask=x[1][:,:,2]==1\n",
    "\n",
    "for k,batch in enumerate(range(test.shape[0])):\n",
    "    test_batch = test[batch][mask[batch]]\n",
    "    test_padded = F.pad(test_batch,(0,0,0,128-test_batch.shape[0]),'constant',0)\n",
    "    test_padded=test_padded.unsqueeze(0)\n",
    "    if k==0:\n",
    "        result = test_padded\n",
    "    else:\n",
    "        result = torch.cat((result, test_padded))\n",
    "    print(result.shape)"
   ]
  },
  {
   "cell_type": "code",
   "execution_count": 179,
   "id": "b14d6b8c-ad6e-4823-ba50-32ecebdaa433",
   "metadata": {},
   "outputs": [
    {
     "data": {
      "text/plain": [
       "tensor([[ 2833,     1,     1],\n",
       "        [22623,     1,     1],\n",
       "        [25537,     1,     1],\n",
       "        [ 1996,     1,     1],\n",
       "        [ 2103,     1,     1],\n",
       "        [ 1012,     1,     1],\n",
       "        [  102,     1,     1],\n",
       "        [    0,     0,     0],\n",
       "        [    0,     0,     0],\n",
       "        [    0,     0,     0],\n",
       "        [    0,     0,     0],\n",
       "        [    0,     0,     0],\n",
       "        [    0,     0,     0],\n",
       "        [    0,     0,     0],\n",
       "        [    0,     0,     0],\n",
       "        [    0,     0,     0],\n",
       "        [    0,     0,     0],\n",
       "        [    0,     0,     0],\n",
       "        [    0,     0,     0],\n",
       "        [    0,     0,     0],\n",
       "        [    0,     0,     0],\n",
       "        [    0,     0,     0],\n",
       "        [    0,     0,     0],\n",
       "        [    0,     0,     0],\n",
       "        [    0,     0,     0],\n",
       "        [    0,     0,     0],\n",
       "        [    0,     0,     0],\n",
       "        [    0,     0,     0],\n",
       "        [    0,     0,     0],\n",
       "        [    0,     0,     0],\n",
       "        [    0,     0,     0],\n",
       "        [    0,     0,     0],\n",
       "        [    0,     0,     0],\n",
       "        [    0,     0,     0],\n",
       "        [    0,     0,     0],\n",
       "        [    0,     0,     0],\n",
       "        [    0,     0,     0],\n",
       "        [    0,     0,     0],\n",
       "        [    0,     0,     0],\n",
       "        [    0,     0,     0],\n",
       "        [    0,     0,     0],\n",
       "        [    0,     0,     0],\n",
       "        [    0,     0,     0],\n",
       "        [    0,     0,     0],\n",
       "        [    0,     0,     0],\n",
       "        [    0,     0,     0],\n",
       "        [    0,     0,     0],\n",
       "        [    0,     0,     0],\n",
       "        [    0,     0,     0],\n",
       "        [    0,     0,     0],\n",
       "        [    0,     0,     0],\n",
       "        [    0,     0,     0],\n",
       "        [    0,     0,     0],\n",
       "        [    0,     0,     0],\n",
       "        [    0,     0,     0],\n",
       "        [    0,     0,     0],\n",
       "        [    0,     0,     0],\n",
       "        [    0,     0,     0],\n",
       "        [    0,     0,     0],\n",
       "        [    0,     0,     0],\n",
       "        [    0,     0,     0],\n",
       "        [    0,     0,     0],\n",
       "        [    0,     0,     0],\n",
       "        [    0,     0,     0],\n",
       "        [    0,     0,     0],\n",
       "        [    0,     0,     0],\n",
       "        [    0,     0,     0],\n",
       "        [    0,     0,     0],\n",
       "        [    0,     0,     0],\n",
       "        [    0,     0,     0],\n",
       "        [    0,     0,     0],\n",
       "        [    0,     0,     0],\n",
       "        [    0,     0,     0],\n",
       "        [    0,     0,     0],\n",
       "        [    0,     0,     0],\n",
       "        [    0,     0,     0],\n",
       "        [    0,     0,     0],\n",
       "        [    0,     0,     0],\n",
       "        [    0,     0,     0],\n",
       "        [    0,     0,     0],\n",
       "        [    0,     0,     0],\n",
       "        [    0,     0,     0],\n",
       "        [    0,     0,     0],\n",
       "        [    0,     0,     0],\n",
       "        [    0,     0,     0],\n",
       "        [    0,     0,     0],\n",
       "        [    0,     0,     0],\n",
       "        [    0,     0,     0],\n",
       "        [    0,     0,     0],\n",
       "        [    0,     0,     0],\n",
       "        [    0,     0,     0],\n",
       "        [    0,     0,     0],\n",
       "        [    0,     0,     0],\n",
       "        [    0,     0,     0],\n",
       "        [    0,     0,     0],\n",
       "        [    0,     0,     0],\n",
       "        [    0,     0,     0],\n",
       "        [    0,     0,     0],\n",
       "        [    0,     0,     0],\n",
       "        [    0,     0,     0],\n",
       "        [    0,     0,     0],\n",
       "        [    0,     0,     0],\n",
       "        [    0,     0,     0],\n",
       "        [    0,     0,     0],\n",
       "        [    0,     0,     0],\n",
       "        [    0,     0,     0],\n",
       "        [    0,     0,     0],\n",
       "        [    0,     0,     0],\n",
       "        [    0,     0,     0],\n",
       "        [    0,     0,     0],\n",
       "        [    0,     0,     0],\n",
       "        [    0,     0,     0],\n",
       "        [    0,     0,     0],\n",
       "        [    0,     0,     0],\n",
       "        [    0,     0,     0],\n",
       "        [    0,     0,     0],\n",
       "        [    0,     0,     0],\n",
       "        [    0,     0,     0],\n",
       "        [    0,     0,     0],\n",
       "        [    0,     0,     0],\n",
       "        [    0,     0,     0],\n",
       "        [    0,     0,     0],\n",
       "        [    0,     0,     0],\n",
       "        [    0,     0,     0],\n",
       "        [    0,     0,     0],\n",
       "        [    0,     0,     0],\n",
       "        [    0,     0,     0],\n",
       "        [    0,     0,     0]])"
      ]
     },
     "execution_count": 179,
     "metadata": {},
     "output_type": "execute_result"
    }
   ],
   "source": [
    "result[0]"
   ]
  },
  {
   "cell_type": "code",
   "execution_count": 142,
   "id": "bc02973c-a62f-45f9-a4e7-8225d28294b1",
   "metadata": {},
   "outputs": [],
   "source": [
    "test=x[1]\n",
    "mask=x[1][:,:,2]==1"
   ]
  },
  {
   "cell_type": "code",
   "execution_count": 151,
   "id": "86bdaf14-62c6-4bd5-a95a-ec590ba2b8bc",
   "metadata": {},
   "outputs": [
    {
     "data": {
      "text/plain": [
       "torch.Size([7, 3])"
      ]
     },
     "execution_count": 151,
     "metadata": {},
     "output_type": "execute_result"
    }
   ],
   "source": [
    "test0.shape"
   ]
  },
  {
   "cell_type": "code",
   "execution_count": 169,
   "id": "9bff4be0-6ef6-4725-b5a3-a83420813443",
   "metadata": {},
   "outputs": [
    {
     "data": {
      "text/plain": [
       "torch.Size([128, 3])"
      ]
     },
     "execution_count": 169,
     "metadata": {},
     "output_type": "execute_result"
    }
   ],
   "source": [
    "test0=test[0][mask[0]]\n",
    "(F.pad(test0,(0,0,0,128-test0.shape[0]),'constant',0)).shape"
   ]
  },
  {
   "cell_type": "code",
   "execution_count": 75,
   "id": "da2cc263-6d22-4c10-822f-be022070454a",
   "metadata": {},
   "outputs": [
    {
     "data": {
      "text/plain": [
       "torch.Size([5, 128, 1])"
      ]
     },
     "execution_count": 75,
     "metadata": {},
     "output_type": "execute_result"
    }
   ],
   "source": [
    "mask=(x[1][:,:,2]==1).int()\n",
    "# mask=mask.unsqueeze(2)\n",
    "# mask=mask.expand(-1,-1,3)\n",
    "# x[1][mask].shape\n",
    "mask=mask.unsqueeze(-1)\n",
    "\n",
    "mask.shape"
   ]
  },
  {
   "cell_type": "code",
   "execution_count": 76,
   "id": "ad9382c0-3a2d-4558-a16d-935ae9ec2c79",
   "metadata": {},
   "outputs": [],
   "source": [
    "masked_tensor = x[1][mask].reshape(-1, 3)"
   ]
  },
  {
   "cell_type": "code",
   "execution_count": 77,
   "id": "426f3db3-812f-4280-846c-3998f64f16bb",
   "metadata": {},
   "outputs": [],
   "source": [
    "counts = mask.sum(axis=1)\n",
    "result = np.split(masked_tensor, np.cumsum(counts[:-1]))"
   ]
  },
  {
   "cell_type": "code",
   "execution_count": 91,
   "id": "c16bdea9-afcb-4a88-87e4-ba7780a443dd",
   "metadata": {},
   "outputs": [
    {
     "data": {
      "text/plain": [
       "tensor([[ 7],\n",
       "        [14],\n",
       "        [19],\n",
       "        [15],\n",
       "        [10]])"
      ]
     },
     "execution_count": 91,
     "metadata": {},
     "output_type": "execute_result"
    }
   ],
   "source": [
    "counts"
   ]
  },
  {
   "cell_type": "code",
   "execution_count": 16,
   "id": "0d7610e1-043f-4d41-994b-43d9aee24f6a",
   "metadata": {},
   "outputs": [],
   "source": [
    "metadata=pd.read_csv('new_data/multinli/data/metadata_random.csv')\n",
    "metadata_random = pd.read_csv('new_data/metadata_multinli.csv')"
   ]
  },
  {
   "cell_type": "code",
   "execution_count": 17,
   "id": "47fabceb-cbff-4a44-a28f-ddc9130fb4ae",
   "metadata": {},
   "outputs": [
    {
     "data": {
      "text/html": [
       "<div>\n",
       "<style scoped>\n",
       "    .dataframe tbody tr th:only-of-type {\n",
       "        vertical-align: middle;\n",
       "    }\n",
       "\n",
       "    .dataframe tbody tr th {\n",
       "        vertical-align: top;\n",
       "    }\n",
       "\n",
       "    .dataframe thead th {\n",
       "        text-align: right;\n",
       "    }\n",
       "</style>\n",
       "<table border=\"1\" class=\"dataframe\">\n",
       "  <thead>\n",
       "    <tr style=\"text-align: right;\">\n",
       "      <th></th>\n",
       "      <th>Unnamed: 0</th>\n",
       "      <th>gold_label</th>\n",
       "      <th>sentence2_has_negation</th>\n",
       "      <th>split</th>\n",
       "    </tr>\n",
       "  </thead>\n",
       "  <tbody>\n",
       "    <tr>\n",
       "      <th>0</th>\n",
       "      <td>0</td>\n",
       "      <td>2</td>\n",
       "      <td>0</td>\n",
       "      <td>2</td>\n",
       "    </tr>\n",
       "    <tr>\n",
       "      <th>1</th>\n",
       "      <td>1</td>\n",
       "      <td>1</td>\n",
       "      <td>0</td>\n",
       "      <td>0</td>\n",
       "    </tr>\n",
       "    <tr>\n",
       "      <th>2</th>\n",
       "      <td>2</td>\n",
       "      <td>1</td>\n",
       "      <td>0</td>\n",
       "      <td>2</td>\n",
       "    </tr>\n",
       "    <tr>\n",
       "      <th>3</th>\n",
       "      <td>3</td>\n",
       "      <td>1</td>\n",
       "      <td>0</td>\n",
       "      <td>2</td>\n",
       "    </tr>\n",
       "    <tr>\n",
       "      <th>4</th>\n",
       "      <td>4</td>\n",
       "      <td>2</td>\n",
       "      <td>0</td>\n",
       "      <td>0</td>\n",
       "    </tr>\n",
       "    <tr>\n",
       "      <th>...</th>\n",
       "      <td>...</td>\n",
       "      <td>...</td>\n",
       "      <td>...</td>\n",
       "      <td>...</td>\n",
       "    </tr>\n",
       "    <tr>\n",
       "      <th>412344</th>\n",
       "      <td>412697</td>\n",
       "      <td>0</td>\n",
       "      <td>0</td>\n",
       "      <td>1</td>\n",
       "    </tr>\n",
       "    <tr>\n",
       "      <th>412345</th>\n",
       "      <td>412698</td>\n",
       "      <td>0</td>\n",
       "      <td>0</td>\n",
       "      <td>0</td>\n",
       "    </tr>\n",
       "    <tr>\n",
       "      <th>412346</th>\n",
       "      <td>412699</td>\n",
       "      <td>0</td>\n",
       "      <td>0</td>\n",
       "      <td>1</td>\n",
       "    </tr>\n",
       "    <tr>\n",
       "      <th>412347</th>\n",
       "      <td>412700</td>\n",
       "      <td>2</td>\n",
       "      <td>0</td>\n",
       "      <td>2</td>\n",
       "    </tr>\n",
       "    <tr>\n",
       "      <th>412348</th>\n",
       "      <td>412701</td>\n",
       "      <td>1</td>\n",
       "      <td>0</td>\n",
       "      <td>2</td>\n",
       "    </tr>\n",
       "  </tbody>\n",
       "</table>\n",
       "<p>412349 rows × 4 columns</p>\n",
       "</div>"
      ],
      "text/plain": [
       "        Unnamed: 0  gold_label  sentence2_has_negation  split\n",
       "0                0           2                       0      2\n",
       "1                1           1                       0      0\n",
       "2                2           1                       0      2\n",
       "3                3           1                       0      2\n",
       "4                4           2                       0      0\n",
       "...            ...         ...                     ...    ...\n",
       "412344      412697           0                       0      1\n",
       "412345      412698           0                       0      0\n",
       "412346      412699           0                       0      1\n",
       "412347      412700           2                       0      2\n",
       "412348      412701           1                       0      2\n",
       "\n",
       "[412349 rows x 4 columns]"
      ]
     },
     "execution_count": 17,
     "metadata": {},
     "output_type": "execute_result"
    }
   ],
   "source": [
    "metadata"
   ]
  },
  {
   "cell_type": "code",
   "execution_count": 18,
   "id": "74b848f1-e54b-4e0c-af29-a0d3b1c110d4",
   "metadata": {},
   "outputs": [
    {
     "data": {
      "text/html": [
       "<div>\n",
       "<style scoped>\n",
       "    .dataframe tbody tr th:only-of-type {\n",
       "        vertical-align: middle;\n",
       "    }\n",
       "\n",
       "    .dataframe tbody tr th {\n",
       "        vertical-align: top;\n",
       "    }\n",
       "\n",
       "    .dataframe thead th {\n",
       "        text-align: right;\n",
       "    }\n",
       "</style>\n",
       "<table border=\"1\" class=\"dataframe\">\n",
       "  <thead>\n",
       "    <tr style=\"text-align: right;\">\n",
       "      <th></th>\n",
       "      <th>id</th>\n",
       "      <th>filename</th>\n",
       "      <th>split</th>\n",
       "      <th>y</th>\n",
       "      <th>a</th>\n",
       "    </tr>\n",
       "  </thead>\n",
       "  <tbody>\n",
       "    <tr>\n",
       "      <th>0</th>\n",
       "      <td>0</td>\n",
       "      <td>0</td>\n",
       "      <td>2</td>\n",
       "      <td>2</td>\n",
       "      <td>0</td>\n",
       "    </tr>\n",
       "    <tr>\n",
       "      <th>1</th>\n",
       "      <td>1</td>\n",
       "      <td>1</td>\n",
       "      <td>0</td>\n",
       "      <td>1</td>\n",
       "      <td>0</td>\n",
       "    </tr>\n",
       "    <tr>\n",
       "      <th>2</th>\n",
       "      <td>2</td>\n",
       "      <td>2</td>\n",
       "      <td>2</td>\n",
       "      <td>1</td>\n",
       "      <td>0</td>\n",
       "    </tr>\n",
       "    <tr>\n",
       "      <th>3</th>\n",
       "      <td>3</td>\n",
       "      <td>3</td>\n",
       "      <td>2</td>\n",
       "      <td>1</td>\n",
       "      <td>0</td>\n",
       "    </tr>\n",
       "    <tr>\n",
       "      <th>4</th>\n",
       "      <td>4</td>\n",
       "      <td>4</td>\n",
       "      <td>0</td>\n",
       "      <td>2</td>\n",
       "      <td>0</td>\n",
       "    </tr>\n",
       "    <tr>\n",
       "      <th>...</th>\n",
       "      <td>...</td>\n",
       "      <td>...</td>\n",
       "      <td>...</td>\n",
       "      <td>...</td>\n",
       "      <td>...</td>\n",
       "    </tr>\n",
       "    <tr>\n",
       "      <th>412344</th>\n",
       "      <td>412344</td>\n",
       "      <td>412344</td>\n",
       "      <td>1</td>\n",
       "      <td>0</td>\n",
       "      <td>0</td>\n",
       "    </tr>\n",
       "    <tr>\n",
       "      <th>412345</th>\n",
       "      <td>412345</td>\n",
       "      <td>412345</td>\n",
       "      <td>0</td>\n",
       "      <td>0</td>\n",
       "      <td>0</td>\n",
       "    </tr>\n",
       "    <tr>\n",
       "      <th>412346</th>\n",
       "      <td>412346</td>\n",
       "      <td>412346</td>\n",
       "      <td>1</td>\n",
       "      <td>0</td>\n",
       "      <td>0</td>\n",
       "    </tr>\n",
       "    <tr>\n",
       "      <th>412347</th>\n",
       "      <td>412347</td>\n",
       "      <td>412347</td>\n",
       "      <td>2</td>\n",
       "      <td>2</td>\n",
       "      <td>0</td>\n",
       "    </tr>\n",
       "    <tr>\n",
       "      <th>412348</th>\n",
       "      <td>412348</td>\n",
       "      <td>412348</td>\n",
       "      <td>2</td>\n",
       "      <td>1</td>\n",
       "      <td>0</td>\n",
       "    </tr>\n",
       "  </tbody>\n",
       "</table>\n",
       "<p>412349 rows × 5 columns</p>\n",
       "</div>"
      ],
      "text/plain": [
       "            id  filename  split  y  a\n",
       "0            0         0      2  2  0\n",
       "1            1         1      0  1  0\n",
       "2            2         2      2  1  0\n",
       "3            3         3      2  1  0\n",
       "4            4         4      0  2  0\n",
       "...        ...       ...    ... .. ..\n",
       "412344  412344    412344      1  0  0\n",
       "412345  412345    412345      0  0  0\n",
       "412346  412346    412346      1  0  0\n",
       "412347  412347    412347      2  2  0\n",
       "412348  412348    412348      2  1  0\n",
       "\n",
       "[412349 rows x 5 columns]"
      ]
     },
     "execution_count": 18,
     "metadata": {},
     "output_type": "execute_result"
    }
   ],
   "source": [
    "metadata_random"
   ]
  },
  {
   "cell_type": "code",
   "execution_count": 95,
   "id": "981cfabf-4fc4-42c9-8ce5-16b9139024ed",
   "metadata": {},
   "outputs": [],
   "source": [
    "test =x[1].clone()"
   ]
  },
  {
   "cell_type": "code",
   "execution_count": 97,
   "id": "85d2d89c-4425-4543-86ac-dcbbf32641d1",
   "metadata": {},
   "outputs": [
    {
     "data": {
      "text/plain": [
       "torch.Size([5, 128])"
      ]
     },
     "execution_count": 97,
     "metadata": {},
     "output_type": "execute_result"
    }
   ],
   "source": [
    "mask = test[:,:,2]==1\n",
    "mask.shape"
   ]
  },
  {
   "cell_type": "code",
   "execution_count": 103,
   "id": "3a9655d4-73fa-4a24-b01b-a4accb862d33",
   "metadata": {},
   "outputs": [],
   "source": [
    "mask2= mask.unsqueeze(-1)"
   ]
  },
  {
   "cell_type": "code",
   "execution_count": 104,
   "id": "722c6f6e-b673-459c-8dd2-25fd9e0c0aee",
   "metadata": {},
   "outputs": [
    {
     "data": {
      "text/plain": [
       "torch.Size([5, 128, 1])"
      ]
     },
     "execution_count": 104,
     "metadata": {},
     "output_type": "execute_result"
    }
   ],
   "source": [
    "mask2.shape"
   ]
  },
  {
   "cell_type": "code",
   "execution_count": 106,
   "id": "34994c56-cd23-4f21-92d6-2228172dafc7",
   "metadata": {},
   "outputs": [
    {
     "data": {
      "text/plain": [
       "torch.Size([5, 128, 3])"
      ]
     },
     "execution_count": 106,
     "metadata": {},
     "output_type": "execute_result"
    }
   ],
   "source": [
    "mask3 = mask2.expand(test.size())\n",
    "mask3.shape"
   ]
  },
  {
   "cell_type": "code",
   "execution_count": 113,
   "id": "254db267-6636-4138-8186-c72a2c13ed9e",
   "metadata": {},
   "outputs": [
    {
     "data": {
      "text/plain": [
       "torch.Size([195])"
      ]
     },
     "execution_count": 113,
     "metadata": {},
     "output_type": "execute_result"
    }
   ],
   "source": [
    "test[mask3].shape"
   ]
  },
  {
   "cell_type": "code",
   "execution_count": 115,
   "id": "e45e4fa8-f3b8-45d8-b29c-ee0709b1ef26",
   "metadata": {},
   "outputs": [
    {
     "data": {
      "text/plain": [
       "tensor([ 7, 14, 19, 15, 10])"
      ]
     },
     "execution_count": 115,
     "metadata": {},
     "output_type": "execute_result"
    }
   ],
   "source": [
    "mask.sum(axis=1)"
   ]
  },
  {
   "cell_type": "code",
   "execution_count": 126,
   "id": "1a92c20a-2082-4702-83b2-951fe1faa142",
   "metadata": {
    "scrolled": true
   },
   "outputs": [
    {
     "data": {
      "text/plain": [
       "tensor([[    0,     0,     0],\n",
       "        [    0,     0,     0],\n",
       "        [    0,     0,     0],\n",
       "        [    0,     0,     0],\n",
       "        [    0,     0,     0],\n",
       "        [ 2833,     1,     1],\n",
       "        [22623,     1,     1],\n",
       "        [25537,     1,     1],\n",
       "        [ 1996,     1,     1],\n",
       "        [ 2103,     1,     1],\n",
       "        [ 1012,     1,     1],\n",
       "        [  102,     1,     1],\n",
       "        [    0,     0,     0],\n",
       "        [    0,     0,     0],\n",
       "        [    0,     0,     0],\n",
       "        [    0,     0,     0],\n",
       "        [    0,     0,     0],\n",
       "        [    0,     0,     0],\n",
       "        [    0,     0,     0],\n",
       "        [    0,     0,     0],\n",
       "        [    0,     0,     0],\n",
       "        [    0,     0,     0],\n",
       "        [    0,     0,     0],\n",
       "        [    0,     0,     0],\n",
       "        [    0,     0,     0],\n",
       "        [    0,     0,     0],\n",
       "        [    0,     0,     0],\n",
       "        [    0,     0,     0],\n",
       "        [    0,     0,     0],\n",
       "        [    0,     0,     0],\n",
       "        [    0,     0,     0],\n",
       "        [    0,     0,     0],\n",
       "        [    0,     0,     0],\n",
       "        [    0,     0,     0],\n",
       "        [    0,     0,     0],\n",
       "        [    0,     0,     0],\n",
       "        [    0,     0,     0],\n",
       "        [    0,     0,     0],\n",
       "        [    0,     0,     0],\n",
       "        [    0,     0,     0],\n",
       "        [    0,     0,     0],\n",
       "        [    0,     0,     0],\n",
       "        [    0,     0,     0],\n",
       "        [    0,     0,     0],\n",
       "        [    0,     0,     0],\n",
       "        [    0,     0,     0],\n",
       "        [    0,     0,     0],\n",
       "        [    0,     0,     0],\n",
       "        [    0,     0,     0],\n",
       "        [    0,     0,     0],\n",
       "        [    0,     0,     0],\n",
       "        [    0,     0,     0],\n",
       "        [    0,     0,     0],\n",
       "        [    0,     0,     0],\n",
       "        [    0,     0,     0],\n",
       "        [    0,     0,     0],\n",
       "        [    0,     0,     0],\n",
       "        [    0,     0,     0],\n",
       "        [    0,     0,     0],\n",
       "        [    0,     0,     0],\n",
       "        [    0,     0,     0],\n",
       "        [    0,     0,     0],\n",
       "        [    0,     0,     0],\n",
       "        [    0,     0,     0],\n",
       "        [    0,     0,     0],\n",
       "        [    0,     0,     0],\n",
       "        [    0,     0,     0],\n",
       "        [    0,     0,     0],\n",
       "        [    0,     0,     0],\n",
       "        [    0,     0,     0],\n",
       "        [    0,     0,     0],\n",
       "        [    0,     0,     0],\n",
       "        [    0,     0,     0],\n",
       "        [    0,     0,     0],\n",
       "        [    0,     0,     0],\n",
       "        [    0,     0,     0],\n",
       "        [    0,     0,     0],\n",
       "        [    0,     0,     0],\n",
       "        [    0,     0,     0],\n",
       "        [    0,     0,     0],\n",
       "        [    0,     0,     0],\n",
       "        [    0,     0,     0],\n",
       "        [    0,     0,     0],\n",
       "        [    0,     0,     0],\n",
       "        [    0,     0,     0],\n",
       "        [    0,     0,     0],\n",
       "        [    0,     0,     0],\n",
       "        [    0,     0,     0],\n",
       "        [    0,     0,     0],\n",
       "        [    0,     0,     0],\n",
       "        [    0,     0,     0],\n",
       "        [    0,     0,     0],\n",
       "        [    0,     0,     0],\n",
       "        [    0,     0,     0],\n",
       "        [    0,     0,     0],\n",
       "        [    0,     0,     0],\n",
       "        [    0,     0,     0],\n",
       "        [    0,     0,     0],\n",
       "        [    0,     0,     0],\n",
       "        [    0,     0,     0],\n",
       "        [    0,     0,     0],\n",
       "        [    0,     0,     0],\n",
       "        [    0,     0,     0],\n",
       "        [    0,     0,     0],\n",
       "        [    0,     0,     0],\n",
       "        [    0,     0,     0],\n",
       "        [    0,     0,     0],\n",
       "        [    0,     0,     0],\n",
       "        [    0,     0,     0],\n",
       "        [    0,     0,     0],\n",
       "        [    0,     0,     0],\n",
       "        [    0,     0,     0],\n",
       "        [    0,     0,     0],\n",
       "        [    0,     0,     0],\n",
       "        [    0,     0,     0],\n",
       "        [    0,     0,     0],\n",
       "        [    0,     0,     0],\n",
       "        [    0,     0,     0],\n",
       "        [    0,     0,     0],\n",
       "        [    0,     0,     0],\n",
       "        [    0,     0,     0],\n",
       "        [    0,     0,     0],\n",
       "        [    0,     0,     0],\n",
       "        [    0,     0,     0],\n",
       "        [    0,     0,     0],\n",
       "        [    0,     0,     0],\n",
       "        [    0,     0,     0],\n",
       "        [    0,     0,     0]])"
      ]
     },
     "execution_count": 126,
     "metadata": {},
     "output_type": "execute_result"
    }
   ],
   "source": [
    "result = (test*mask3)\n",
    "result[0]"
   ]
  },
  {
   "cell_type": "code",
   "execution_count": 141,
   "id": "9035122b-38bc-4e76-a821-a46b129f0c76",
   "metadata": {},
   "outputs": [
    {
     "data": {
      "text/plain": [
       "tensor([5, 5, 5])"
      ]
     },
     "execution_count": 141,
     "metadata": {},
     "output_type": "execute_result"
    }
   ],
   "source": [
    "mask_result  = (result!=0).int()\n",
    "shifts = torch.argmax(mask_result[0], 0)"
   ]
  },
  {
   "cell_type": "code",
   "execution_count": 135,
   "id": "c9546323-69ab-4aa2-a807-28df92d20272",
   "metadata": {},
   "outputs": [
    {
     "data": {
      "text/plain": [
       "tensor([[0, 0, 0],\n",
       "        [0, 0, 0],\n",
       "        [0, 0, 0],\n",
       "        [0, 0, 0],\n",
       "        [0, 0, 0],\n",
       "        [1, 1, 1],\n",
       "        [1, 1, 1],\n",
       "        [1, 1, 1],\n",
       "        [1, 1, 1],\n",
       "        [1, 1, 1],\n",
       "        [1, 1, 1],\n",
       "        [1, 1, 1],\n",
       "        [0, 0, 0],\n",
       "        [0, 0, 0],\n",
       "        [0, 0, 0],\n",
       "        [0, 0, 0],\n",
       "        [0, 0, 0],\n",
       "        [0, 0, 0],\n",
       "        [0, 0, 0],\n",
       "        [0, 0, 0],\n",
       "        [0, 0, 0],\n",
       "        [0, 0, 0],\n",
       "        [0, 0, 0],\n",
       "        [0, 0, 0],\n",
       "        [0, 0, 0],\n",
       "        [0, 0, 0],\n",
       "        [0, 0, 0],\n",
       "        [0, 0, 0],\n",
       "        [0, 0, 0],\n",
       "        [0, 0, 0],\n",
       "        [0, 0, 0],\n",
       "        [0, 0, 0],\n",
       "        [0, 0, 0],\n",
       "        [0, 0, 0],\n",
       "        [0, 0, 0],\n",
       "        [0, 0, 0],\n",
       "        [0, 0, 0],\n",
       "        [0, 0, 0],\n",
       "        [0, 0, 0],\n",
       "        [0, 0, 0],\n",
       "        [0, 0, 0],\n",
       "        [0, 0, 0],\n",
       "        [0, 0, 0],\n",
       "        [0, 0, 0],\n",
       "        [0, 0, 0],\n",
       "        [0, 0, 0],\n",
       "        [0, 0, 0],\n",
       "        [0, 0, 0],\n",
       "        [0, 0, 0],\n",
       "        [0, 0, 0],\n",
       "        [0, 0, 0],\n",
       "        [0, 0, 0],\n",
       "        [0, 0, 0],\n",
       "        [0, 0, 0],\n",
       "        [0, 0, 0],\n",
       "        [0, 0, 0],\n",
       "        [0, 0, 0],\n",
       "        [0, 0, 0],\n",
       "        [0, 0, 0],\n",
       "        [0, 0, 0],\n",
       "        [0, 0, 0],\n",
       "        [0, 0, 0],\n",
       "        [0, 0, 0],\n",
       "        [0, 0, 0],\n",
       "        [0, 0, 0],\n",
       "        [0, 0, 0],\n",
       "        [0, 0, 0],\n",
       "        [0, 0, 0],\n",
       "        [0, 0, 0],\n",
       "        [0, 0, 0],\n",
       "        [0, 0, 0],\n",
       "        [0, 0, 0],\n",
       "        [0, 0, 0],\n",
       "        [0, 0, 0],\n",
       "        [0, 0, 0],\n",
       "        [0, 0, 0],\n",
       "        [0, 0, 0],\n",
       "        [0, 0, 0],\n",
       "        [0, 0, 0],\n",
       "        [0, 0, 0],\n",
       "        [0, 0, 0],\n",
       "        [0, 0, 0],\n",
       "        [0, 0, 0],\n",
       "        [0, 0, 0],\n",
       "        [0, 0, 0],\n",
       "        [0, 0, 0],\n",
       "        [0, 0, 0],\n",
       "        [0, 0, 0],\n",
       "        [0, 0, 0],\n",
       "        [0, 0, 0],\n",
       "        [0, 0, 0],\n",
       "        [0, 0, 0],\n",
       "        [0, 0, 0],\n",
       "        [0, 0, 0],\n",
       "        [0, 0, 0],\n",
       "        [0, 0, 0],\n",
       "        [0, 0, 0],\n",
       "        [0, 0, 0],\n",
       "        [0, 0, 0],\n",
       "        [0, 0, 0],\n",
       "        [0, 0, 0],\n",
       "        [0, 0, 0],\n",
       "        [0, 0, 0],\n",
       "        [0, 0, 0],\n",
       "        [0, 0, 0],\n",
       "        [0, 0, 0],\n",
       "        [0, 0, 0],\n",
       "        [0, 0, 0],\n",
       "        [0, 0, 0],\n",
       "        [0, 0, 0],\n",
       "        [0, 0, 0],\n",
       "        [0, 0, 0],\n",
       "        [0, 0, 0],\n",
       "        [0, 0, 0],\n",
       "        [0, 0, 0],\n",
       "        [0, 0, 0],\n",
       "        [0, 0, 0],\n",
       "        [0, 0, 0],\n",
       "        [0, 0, 0],\n",
       "        [0, 0, 0],\n",
       "        [0, 0, 0],\n",
       "        [0, 0, 0],\n",
       "        [0, 0, 0],\n",
       "        [0, 0, 0],\n",
       "        [0, 0, 0],\n",
       "        [0, 0, 0],\n",
       "        [0, 0, 0],\n",
       "        [0, 0, 0]], dtype=torch.int32)"
      ]
     },
     "execution_count": 135,
     "metadata": {},
     "output_type": "execute_result"
    }
   ],
   "source": [
    "mask_result[0]"
   ]
  },
  {
   "cell_type": "code",
   "execution_count": null,
   "id": "b2c8bf3e-3fd6-43fc-8019-f1de003f46c7",
   "metadata": {},
   "outputs": [],
   "source": []
  }
 ],
 "metadata": {
  "kernelspec": {
   "display_name": "torchgeo",
   "language": "python",
   "name": "pytorch-example"
  },
  "language_info": {
   "codemirror_mode": {
    "name": "ipython",
    "version": 3
   },
   "file_extension": ".py",
   "mimetype": "text/x-python",
   "name": "python",
   "nbconvert_exporter": "python",
   "pygments_lexer": "ipython3",
   "version": "3.11.5"
  }
 },
 "nbformat": 4,
 "nbformat_minor": 5
}
